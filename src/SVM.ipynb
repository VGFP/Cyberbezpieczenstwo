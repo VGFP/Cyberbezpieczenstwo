{
 "cells": [
  {
   "cell_type": "code",
   "execution_count": null,
   "id": "c5b73323",
   "metadata": {},
   "outputs": [],
   "source": [
    "%pip install pandas\n",
    "%pip install numpy\n",
    "%pip install sklearn\n",
    "%pip install matplotlib"
   ]
  },
  {
   "cell_type": "code",
   "execution_count": null,
   "id": "74eb2a9d",
   "metadata": {
    "scrolled": false
   },
   "outputs": [],
   "source": [
    "import os\n",
    "import pandas as pd\n",
    "import numpy as np\n",
    "import matplotlib.pyplot as plt\n",
    "from sklearn.model_selection import train_test_split\n",
    "from sklearn.pipeline import make_pipeline\n",
    "from sklearn.preprocessing import StandardScaler\n",
    "from sklearn.svm import SVC\n",
    "from sklearn.metrics import f1_score, accuracy_score, average_precision_score, confusion_matrix\n",
    "from sklearn.svm import OneClassSVM\n",
    "import copy\n",
    "\n",
    "# How big is train dataset ?\n",
    "train_test_ratio = 0.039\n",
    "np.random.RandomState(seed=42)\n",
    "\n",
    "data_path = os.path.abspath(os.path.join(os.getcwd(), '..',  'dataset'))\n",
    "\n",
    "names = pd.read_csv(os.path.join(data_path, 'NUSW-NB15_features_v2.csv'))['Name'].tolist()\n",
    "\n",
    "frames = []\n",
    "\n",
    "frames.append(pd.read_csv(os.path.join(data_path, \"UNSW-NB15_1.csv\"), names=names))\n",
    "# Uncomment to load all csv\n",
    "frames.append(pd.read_csv(os.path.join(data_path, \"UNSW-NB15_2.csv\"), names=names))\n",
    "frames.append(pd.read_csv(os.path.join(data_path, \"UNSW-NB15_3.csv\"), names=names))\n",
    "frames.append(pd.read_csv(os.path.join(data_path, \"UNSW-NB15_4.csv\"), names=names))\n",
    "\n",
    "df = pd.concat(frames, axis=0, ignore_index=True)\n",
    "\n",
    "mask = np.random.rand(len(df)) < train_test_ratio\n",
    "train = df[mask]\n",
    "test = df[~mask]\n",
    "\n",
    "# Clear memory\n",
    "del df\n",
    "\n",
    "train.head()"
   ]
  },
  {
   "cell_type": "code",
   "execution_count": 3,
   "id": "a9ef17d3",
   "metadata": {
    "scrolled": false
   },
   "outputs": [
    {
     "name": "stdout",
     "output_type": "stream",
     "text": [
      "<class 'pandas.core.frame.DataFrame'>\n",
      "Int64Index: 99182 entries, 30 to 2540041\n",
      "Data columns (total 49 columns):\n",
      " #   Column            Non-Null Count  Dtype  \n",
      "---  ------            --------------  -----  \n",
      " 0   srcip             99182 non-null  object \n",
      " 1   sport             99182 non-null  object \n",
      " 2   dstip             99182 non-null  object \n",
      " 3   dsport            99182 non-null  object \n",
      " 4   proto             99182 non-null  object \n",
      " 5   state             99182 non-null  object \n",
      " 6   dur               99182 non-null  float64\n",
      " 7   sbytes            99182 non-null  int64  \n",
      " 8   dbytes            99182 non-null  int64  \n",
      " 9   sttl              99182 non-null  int64  \n",
      " 10  dttl              99182 non-null  int64  \n",
      " 11  sloss             99182 non-null  int64  \n",
      " 12  dloss             99182 non-null  int64  \n",
      " 13  service           99182 non-null  object \n",
      " 14  Sload             99182 non-null  float64\n",
      " 15  Dload             99182 non-null  float64\n",
      " 16  Spkts             99182 non-null  int64  \n",
      " 17  Dpkts             99182 non-null  int64  \n",
      " 18  swin              99182 non-null  int64  \n",
      " 19  dwin              99182 non-null  int64  \n",
      " 20  stcpb             99182 non-null  int64  \n",
      " 21  dtcpb             99182 non-null  int64  \n",
      " 22  smeansz           99182 non-null  int64  \n",
      " 23  dmeansz           99182 non-null  int64  \n",
      " 24  trans_depth       99182 non-null  int64  \n",
      " 25  res_bdy_len       99182 non-null  int64  \n",
      " 26  Sjit              99182 non-null  float64\n",
      " 27  Djit              99182 non-null  float64\n",
      " 28  Stime             99182 non-null  int64  \n",
      " 29  Ltime             99182 non-null  int64  \n",
      " 30  Sintpkt           99182 non-null  float64\n",
      " 31  Dintpkt           99182 non-null  float64\n",
      " 32  tcprtt            99182 non-null  float64\n",
      " 33  synack            99182 non-null  float64\n",
      " 34  ackdat            99182 non-null  float64\n",
      " 35  is_sm_ips_ports   99182 non-null  int64  \n",
      " 36  ct_state_ttl      99182 non-null  int64  \n",
      " 37  ct_flw_http_mthd  46723 non-null  float64\n",
      " 38  is_ftp_login      43538 non-null  float64\n",
      " 39  ct_ftp_cmd        99182 non-null  object \n",
      " 40  ct_srv_src        99182 non-null  int64  \n",
      " 41  ct_srv_dst        99182 non-null  int64  \n",
      " 42  ct_dst_ltm        99182 non-null  int64  \n",
      " 43  ct_src_ ltm       99182 non-null  int64  \n",
      " 44  ct_src_dport_ltm  99182 non-null  int64  \n",
      " 45  ct_dst_sport_ltm  99182 non-null  int64  \n",
      " 46  ct_dst_src_ltm    99182 non-null  int64  \n",
      " 47  attack_cat        12585 non-null  object \n",
      " 48  Label             99182 non-null  int64  \n",
      "dtypes: float64(12), int64(28), object(9)\n",
      "memory usage: 37.8+ MB\n"
     ]
    }
   ],
   "source": [
    "# Info about data types and columns\n",
    "train.info()"
   ]
  },
  {
   "cell_type": "code",
   "execution_count": 4,
   "id": "df0c1cd0",
   "metadata": {},
   "outputs": [
    {
     "data": {
      "text/plain": [
       "srcip                   0\n",
       "sport                   0\n",
       "dstip                   0\n",
       "dsport                  0\n",
       "proto                   0\n",
       "state                   0\n",
       "dur                     0\n",
       "sbytes                  0\n",
       "dbytes                  0\n",
       "sttl                    0\n",
       "dttl                    0\n",
       "sloss                   0\n",
       "dloss                   0\n",
       "service                 0\n",
       "Sload                   0\n",
       "Dload                   0\n",
       "Spkts                   0\n",
       "Dpkts                   0\n",
       "swin                    0\n",
       "dwin                    0\n",
       "stcpb                   0\n",
       "dtcpb                   0\n",
       "smeansz                 0\n",
       "dmeansz                 0\n",
       "trans_depth             0\n",
       "res_bdy_len             0\n",
       "Sjit                    0\n",
       "Djit                    0\n",
       "Stime                   0\n",
       "Ltime                   0\n",
       "Sintpkt                 0\n",
       "Dintpkt                 0\n",
       "tcprtt                  0\n",
       "synack                  0\n",
       "ackdat                  0\n",
       "is_sm_ips_ports         0\n",
       "ct_state_ttl            0\n",
       "ct_flw_http_mthd    52459\n",
       "is_ftp_login        55644\n",
       "ct_ftp_cmd              0\n",
       "ct_srv_src              0\n",
       "ct_srv_dst              0\n",
       "ct_dst_ltm              0\n",
       "ct_src_ ltm             0\n",
       "ct_src_dport_ltm        0\n",
       "ct_dst_sport_ltm        0\n",
       "ct_dst_src_ltm          0\n",
       "attack_cat          86597\n",
       "Label                   0\n",
       "dtype: int64"
      ]
     },
     "execution_count": 4,
     "metadata": {},
     "output_type": "execute_result"
    }
   ],
   "source": [
    "# Count null values in columns\n",
    "train.isnull().sum()"
   ]
  },
  {
   "cell_type": "code",
   "execution_count": 5,
   "id": "24bb0aca",
   "metadata": {},
   "outputs": [
    {
     "data": {
      "text/plain": [
       "0    86597\n",
       "1    12585\n",
       "Name: Label, dtype: int64"
      ]
     },
     "execution_count": 5,
     "metadata": {},
     "output_type": "execute_result"
    }
   ],
   "source": [
    "# How many attacks and normal records do we have ?\n",
    "train['Label'].value_counts()"
   ]
  },
  {
   "cell_type": "code",
   "execution_count": 6,
   "id": "93d7c472",
   "metadata": {},
   "outputs": [
    {
     "data": {
      "text/plain": [
       "<BarContainer object of 40 artists>"
      ]
     },
     "execution_count": 6,
     "metadata": {},
     "output_type": "execute_result"
    },
    {
     "data": {
      "image/png": "[encoded data removed]",
      "text/plain": [
       "<Figure size 432x288 with 1 Axes>"
      ]
     },
     "metadata": {
      "needs_background": "light"
     },
     "output_type": "display_data"
    }
   ],
   "source": [
    "correlation = train.corr()['Label']\n",
    "\n",
    "plt.bar(correlation.keys(), correlation.tolist())\n",
    "# plt.show()"
   ]
  },
  {
   "cell_type": "code",
   "execution_count": 7,
   "id": "5f56ea57",
   "metadata": {},
   "outputs": [
    {
     "data": {
      "text/plain": [
       "['sttl',\n",
       " 'Dload',\n",
       " 'swin',\n",
       " 'dwin',\n",
       " 'stcpb',\n",
       " 'dtcpb',\n",
       " 'dmeansz',\n",
       " 'Stime',\n",
       " 'Ltime',\n",
       " 'ct_state_ttl',\n",
       " 'ct_srv_src',\n",
       " 'ct_srv_dst',\n",
       " 'ct_dst_ltm',\n",
       " 'ct_src_ ltm',\n",
       " 'ct_src_dport_ltm',\n",
       " 'ct_dst_sport_ltm',\n",
       " 'ct_dst_src_ltm']"
      ]
     },
     "execution_count": 7,
     "metadata": {},
     "output_type": "execute_result"
    }
   ],
   "source": [
    "corr_dict = correlation.to_dict()\n",
    "correlation_treshold = 0.2\n",
    "\n",
    "# Return column names where correlation is greater or equal than threshold\n",
    "column_names = [key for key, value in corr_dict.items() if abs(value) >= correlation_treshold]\n",
    "column_names.remove('Label')\n",
    "column_names"
   ]
  },
  {
   "cell_type": "code",
   "execution_count": 8,
   "id": "499b7606",
   "metadata": {},
   "outputs": [],
   "source": [
    "X_train = train[column_names]\n",
    "y_train = train['Label']\n",
    "# del train\n",
    "\n",
    "X_test = test[column_names]\n",
    "y_test = test['Label']\n",
    "# del test"
   ]
  },
  {
   "cell_type": "code",
   "execution_count": 10,
   "id": "27a8e208",
   "metadata": {},
   "outputs": [
    {
     "data": {
      "text/plain": [
       "Pipeline(steps=[('standardscaler', StandardScaler()),\n",
       "                ('svc', SVC(gamma='auto'))])"
      ]
     },
     "execution_count": 10,
     "metadata": {},
     "output_type": "execute_result"
    }
   ],
   "source": [
    "clf = make_pipeline(StandardScaler(), SVC(gamma='auto'))\n",
    "clf.fit(X_train, y_train)"
   ]
  },
  {
   "cell_type": "code",
   "execution_count": 11,
   "id": "4fb1b35b",
   "metadata": {},
   "outputs": [],
   "source": [
    "y_pred = clf.predict(X_test)"
   ]
  },
  {
   "cell_type": "code",
   "execution_count": 12,
   "id": "b8802e6d",
   "metadata": {},
   "outputs": [
    {
     "name": "stdout",
     "output_type": "stream",
     "text": [
      "SVM F1-score: 0.9544176772719672\n",
      "SVM accuracy: 0.9880492418267933\n",
      "SVM average precision: 0.9134089524114917\n"
     ]
    }
   ],
   "source": [
    "print(f\"SVM F1-score: {f1_score(y_test, y_pred)}\")\n",
    "print(f\"SVM accuracy: {accuracy_score(y_test, y_pred)}\")\n",
    "print(f\"SVM average precision: {average_precision_score(y_test, y_pred)}\")"
   ]
  },
  {
   "cell_type": "code",
   "execution_count": 13,
   "id": "ffaa2699",
   "metadata": {},
   "outputs": [
    {
     "name": "stdout",
     "output_type": "stream",
     "text": [
      "TP: 305396\n",
      "TN: 2106366\n",
      "FP: 25826\n",
      "FN: 3345 <- attacks not detected\n"
     ]
    }
   ],
   "source": [
    "tn, fp, fn, tp = confusion_matrix(y_test, y_pred).ravel()\n",
    "print(f\"TP: {tp}\")\n",
    "print(f\"TN: {tn}\")\n",
    "print(f\"FP: {fp}\")\n",
    "print(f\"FN: {fn} <- attacks not detected\")"
   ]
  },
  {
   "cell_type": "markdown",
   "id": "e6c4a994",
   "metadata": {},
   "source": [
    "# Random forest classifier"
   ]
  },
  {
   "cell_type": "code",
   "execution_count": 14,
   "id": "c6fe7922",
   "metadata": {},
   "outputs": [
    {
     "data": {
      "text/plain": [
       "Pipeline(steps=[('standardscaler', StandardScaler()),\n",
       "                ('randomforestclassifier', RandomForestClassifier())])"
      ]
     },
     "execution_count": 14,
     "metadata": {},
     "output_type": "execute_result"
    }
   ],
   "source": [
    "from sklearn.ensemble import RandomForestClassifier\n",
    "clf = make_pipeline(StandardScaler(), RandomForestClassifier())\n",
    "# clf = RandomForestClassifier()\n",
    "clf.fit(X_train, y_train)"
   ]
  },
  {
   "cell_type": "code",
   "execution_count": 15,
   "id": "75778165",
   "metadata": {},
   "outputs": [
    {
     "name": "stdout",
     "output_type": "stream",
     "text": [
      "SVM F1-score: 0.9677861681688172\n",
      "SVM accuracy: 0.9918191117904506\n",
      "SVM average precision: 0.9402215840175266\n"
     ]
    }
   ],
   "source": [
    "y_pred = clf.predict(X_test)\n",
    "print(f\"SVM F1-score: {f1_score(y_test, y_pred)}\")\n",
    "print(f\"SVM accuracy: {accuracy_score(y_test, y_pred)}\")\n",
    "print(f\"SVM average precision: {average_precision_score(y_test, y_pred)}\")"
   ]
  },
  {
   "cell_type": "code",
   "execution_count": 16,
   "id": "d234c435",
   "metadata": {},
   "outputs": [
    {
     "name": "stdout",
     "output_type": "stream",
     "text": [
      "TP: 299960\n",
      "TN: 2121004\n",
      "FP: 11188\n",
      "FN: 8781 <- attacks not detected\n"
     ]
    }
   ],
   "source": [
    "tn, fp, fn, tp = confusion_matrix(y_test, y_pred).ravel()\n",
    "print(f\"TP: {tp}\")\n",
    "print(f\"TN: {tn}\")\n",
    "print(f\"FP: {fp}\")\n",
    "print(f\"FN: {fn} <- attacks not detected\")"
   ]
  },
  {
   "cell_type": "markdown",
   "id": "576fb3cb",
   "metadata": {},
   "source": [
    "### Random forest has better f1-score than SVM, although for me SVM is better, because it has less FN (not detected attacks)"
   ]
  },
  {
   "cell_type": "markdown",
   "id": "c2a34621",
   "metadata": {},
   "source": [
    "# One Class SVM"
   ]
  },
  {
   "cell_type": "markdown",
   "id": "724cbe9c",
   "metadata": {},
   "source": [
    "Getting highly correlated features to reduce time for training."
   ]
  },
  {
   "cell_type": "code",
   "execution_count": 28,
   "id": "6ad2bb6d",
   "metadata": {},
   "outputs": [],
   "source": [
    "corr_dict = correlation.to_dict()\n",
    "correlation_treshold_for_OCSVM = 0.6\n",
    "\n",
    "# Return column names where correlation is greater or equal than threshold\n",
    "column_names_for_OCSVM = [key for key, value in corr_dict.items() if abs(value) >= correlation_treshold_for_OCSVM]\n",
    "column_names_for_OCSVM.remove('Label')\n",
    "column_names_for_OCSVM = [  'dwin',\n",
    "                            'stcpb',\n",
    "                            'dtcpb'] # changed for testing"
   ]
  },
  {
   "cell_type": "markdown",
   "id": "83f50884",
   "metadata": {},
   "source": [
    "## OCSVM trained on full set of data\n",
    "\n",
    "OCSVM model trained on both attack and not attack data. It should create a model that labels attacks as outliers (gives them -1)."
   ]
  },
  {
   "cell_type": "code",
   "execution_count": 29,
   "id": "42c0ef7f",
   "metadata": {},
   "outputs": [],
   "source": [
    "# svm One Class\n",
    "\n",
    "# Load data\n",
    "x_train = train[column_names_for_OCSVM]\n",
    "x_test = test[column_names_for_OCSVM]\n",
    "\n",
    "one_class_svm = OneClassSVM(gamma='auto')\n",
    "output = one_class_svm.fit_predict(x_train)"
   ]
  },
  {
   "cell_type": "code",
   "execution_count": 21,
   "id": "66283d31",
   "metadata": {},
   "outputs": [],
   "source": [
    "new_output = copy.deepcopy(output)\n",
    "\n",
    "for count, out in enumerate(output):\n",
    "    if out == -1:\n",
    "        new_output[count] = 1\n",
    "    else:\n",
    "        new_output[count] = 0"
   ]
  },
  {
   "cell_type": "code",
   "execution_count": 23,
   "id": "d9875fc0",
   "metadata": {},
   "outputs": [
    {
     "name": "stdout",
     "output_type": "stream",
     "text": [
      "TP: 12542\n",
      "TN: 0\n",
      "FP: 0\n",
      "FN: 86572 <- attacks not detected\n"
     ]
    }
   ],
   "source": [
    "y_train_output = train['Label']\n",
    "\n",
    "tn, fp, fn, tp = confusion_matrix(new_output, y_train_output).ravel()\n",
    "print(f\"TP: {tp}\")\n",
    "print(f\"TN: {tn}\")\n",
    "print(f\"FP: {fp}\")\n",
    "print(f\"FN: {fn} <- attacks not detected\")"
   ]
  },
  {
   "cell_type": "markdown",
   "id": "db9b5807",
   "metadata": {},
   "source": [
    "Model does not detect attacks."
   ]
  },
  {
   "cell_type": "code",
   "execution_count": 26,
   "id": "05315428",
   "metadata": {},
   "outputs": [],
   "source": [
    "y_test_output = one_class_svm.predict(test[column_names_for_OCSVM])"
   ]
  },
  {
   "cell_type": "code",
   "execution_count": 27,
   "id": "b8089c8d",
   "metadata": {},
   "outputs": [
    {
     "data": {
      "text/html": [
       "<div>\n",
       "<style scoped>\n",
       "    .dataframe tbody tr th:only-of-type {\n",
       "        vertical-align: middle;\n",
       "    }\n",
       "\n",
       "    .dataframe tbody tr th {\n",
       "        vertical-align: top;\n",
       "    }\n",
       "\n",
       "    .dataframe thead th {\n",
       "        text-align: right;\n",
       "    }\n",
       "</style>\n",
       "<table border=\"1\" class=\"dataframe\">\n",
       "  <thead>\n",
       "    <tr style=\"text-align: right;\">\n",
       "      <th></th>\n",
       "      <th>sttl</th>\n",
       "      <th>ct_state_ttl</th>\n",
       "    </tr>\n",
       "  </thead>\n",
       "  <tbody>\n",
       "    <tr>\n",
       "      <th>30</th>\n",
       "      <td>31</td>\n",
       "      <td>0</td>\n",
       "    </tr>\n",
       "    <tr>\n",
       "      <th>76</th>\n",
       "      <td>31</td>\n",
       "      <td>0</td>\n",
       "    </tr>\n",
       "    <tr>\n",
       "      <th>114</th>\n",
       "      <td>31</td>\n",
       "      <td>0</td>\n",
       "    </tr>\n",
       "    <tr>\n",
       "      <th>141</th>\n",
       "      <td>31</td>\n",
       "      <td>0</td>\n",
       "    </tr>\n",
       "    <tr>\n",
       "      <th>150</th>\n",
       "      <td>31</td>\n",
       "      <td>0</td>\n",
       "    </tr>\n",
       "    <tr>\n",
       "      <th>...</th>\n",
       "      <td>...</td>\n",
       "      <td>...</td>\n",
       "    </tr>\n",
       "    <tr>\n",
       "      <th>2539932</th>\n",
       "      <td>31</td>\n",
       "      <td>0</td>\n",
       "    </tr>\n",
       "    <tr>\n",
       "      <th>2539942</th>\n",
       "      <td>31</td>\n",
       "      <td>0</td>\n",
       "    </tr>\n",
       "    <tr>\n",
       "      <th>2540032</th>\n",
       "      <td>31</td>\n",
       "      <td>0</td>\n",
       "    </tr>\n",
       "    <tr>\n",
       "      <th>2540039</th>\n",
       "      <td>31</td>\n",
       "      <td>0</td>\n",
       "    </tr>\n",
       "    <tr>\n",
       "      <th>2540041</th>\n",
       "      <td>31</td>\n",
       "      <td>0</td>\n",
       "    </tr>\n",
       "  </tbody>\n",
       "</table>\n",
       "<p>86597 rows × 2 columns</p>\n",
       "</div>"
      ],
      "text/plain": [
       "         sttl  ct_state_ttl\n",
       "30         31             0\n",
       "76         31             0\n",
       "114        31             0\n",
       "141        31             0\n",
       "150        31             0\n",
       "...       ...           ...\n",
       "2539932    31             0\n",
       "2539942    31             0\n",
       "2540032    31             0\n",
       "2540039    31             0\n",
       "2540041    31             0\n",
       "\n",
       "[86597 rows x 2 columns]"
      ]
     },
     "execution_count": 27,
     "metadata": {},
     "output_type": "execute_result"
    }
   ],
   "source": [
    "# Good train data (no attacks)\n",
    "\n",
    "x_train_no_attacts = train[train['Label'] == 0]\n",
    "\n",
    "x_train_no_attacts = x_train_no_attacts[column_names_for_OCSVM]\n",
    "\n",
    "one_class_svm_only_good_data = OneClassSVM(gamma='auto')\n",
    "output_only_good_data = one_class_svm_only_good_data.fit(x_train_no_attacts)\n",
    "\n",
    "x_train_no_attacts\n"
   ]
  },
  {
   "cell_type": "code",
   "execution_count": 24,
   "id": "7c660a53",
   "metadata": {},
   "outputs": [
    {
     "data": {
      "text/plain": [
       "array([-1, -1, -1, ..., -1, -1, -1])"
      ]
     },
     "execution_count": 24,
     "metadata": {},
     "output_type": "execute_result"
    }
   ],
   "source": [
    "# test OCSVM that was trained only on good data\n",
    "\n",
    "y_test_output_good_data = one_class_svm_only_good_data.predict(test[column_names_for_OCSVM].head(10000))\n",
    "\n",
    "y_test_output_good_data"
   ]
  },
  {
   "cell_type": "code",
   "execution_count": 25,
   "id": "83356a07",
   "metadata": {},
   "outputs": [
    {
     "name": "stdout",
     "output_type": "stream",
     "text": [
      "10000\n",
      "10000\n"
     ]
    }
   ],
   "source": [
    "new_y_test_output_good_data = copy.deepcopy(y_test_output_good_data)\n",
    "\n",
    "for count, out in enumerate(y_test_output_good_data):\n",
    "    if out == -1:\n",
    "        new_y_test_output_good_data[count] = 1\n",
    "    else:\n",
    "        new_y_test_output_good_data[count] = 0\n",
    "print(len(new_y_test_output_good_data))\n",
    "print(np.sum(new_y_test_output_good_data))\n"
   ]
  },
  {
   "cell_type": "code",
   "execution_count": 26,
   "id": "2577c734",
   "metadata": {},
   "outputs": [
    {
     "name": "stdout",
     "output_type": "stream",
     "text": [
      "TP: 687\n",
      "TN: 0\n",
      "FP: 9313\n",
      "FN: 0 <- attacks not detected\n"
     ]
    }
   ],
   "source": [
    "y_label_good_data = test['Label'].head(10000)\n",
    "tn, fp, fn, tp = confusion_matrix(y_label_good_data, new_y_test_output_good_data).ravel()\n",
    "print(f\"TP: {tp}\")\n",
    "print(f\"TN: {tn}\")\n",
    "print(f\"FP: {fp}\")\n",
    "print(f\"FN: {fn} <- attacks not detected\")"
   ]
  },
  {
   "cell_type": "markdown",
   "id": "057b5b45",
   "metadata": {},
   "source": [
    "### Results:\n",
    "One Class SVM does not detect attacks and is not suitable for detecting network attacks.\n",
    "It also takes a lot of time to train for higher number of features that's why only 2 features were used for training."
   ]
  }
 ],
 "metadata": {
  "interpreter": {
   "hash": "bcc8378988483142d0d745233416534782bb7caf8f6433b4451eca61fdf27a5c"
  },
  "kernelspec": {
   "display_name": "Python 3.8.9 ('venv': venv)",
   "language": "python",
   "name": "python3"
  },
  "language_info": {
   "codemirror_mode": {
    "name": "ipython",
    "version": 3
   },
   "file_extension": ".py",
   "mimetype": "text/x-python",
   "name": "python",
   "nbconvert_exporter": "python",
   "pygments_lexer": "ipython3",
   "version": "3.8.9"
  }
 },
 "nbformat": 4,
 "nbformat_minor": 5
}
