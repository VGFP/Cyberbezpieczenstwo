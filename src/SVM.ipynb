{
 "cells": [
  {
   "cell_type": "code",
   "execution_count": null,
   "id": "c5b73323",
   "metadata": {},
   "outputs": [],
   "source": [
    "%pip install pandas\n",
    "%pip install numpy\n",
    "%pip install sklearn\n",
    "%pip install matplotlib"
   ]
  },
  {
   "cell_type": "code",
   "execution_count": 1,
   "id": "74eb2a9d",
   "metadata": {
    "scrolled": false
   },
   "outputs": [
    {
     "name": "stderr",
     "output_type": "stream",
     "text": [
      "C:\\Users\\Dominik\\miniconda3\\envs\\tensorflow\\lib\\site-packages\\sklearn\\ensemble\\weight_boosting.py:29: DeprecationWarning: numpy.core.umath_tests is an internal NumPy module and should not be imported. It will be removed in a future NumPy release.\n",
      "  from numpy.core.umath_tests import inner1d\n",
      "C:\\Users\\Dominik\\miniconda3\\envs\\tensorflow\\lib\\site-packages\\IPython\\core\\interactiveshell.py:3166: DtypeWarning: Columns (1,3,47) have mixed types.Specify dtype option on import or set low_memory=False.\n",
      "  interactivity=interactivity, compiler=compiler, result=result)\n",
      "C:\\Users\\Dominik\\miniconda3\\envs\\tensorflow\\lib\\site-packages\\IPython\\core\\interactiveshell.py:3166: DtypeWarning: Columns (3,39,47) have mixed types.Specify dtype option on import or set low_memory=False.\n",
      "  interactivity=interactivity, compiler=compiler, result=result)\n"
     ]
    },
    {
     "data": {
      "text/html": [
       "<div>\n",
       "<style scoped>\n",
       "    .dataframe tbody tr th:only-of-type {\n",
       "        vertical-align: middle;\n",
       "    }\n",
       "\n",
       "    .dataframe tbody tr th {\n",
       "        vertical-align: top;\n",
       "    }\n",
       "\n",
       "    .dataframe thead th {\n",
       "        text-align: right;\n",
       "    }\n",
       "</style>\n",
       "<table border=\"1\" class=\"dataframe\">\n",
       "  <thead>\n",
       "    <tr style=\"text-align: right;\">\n",
       "      <th></th>\n",
       "      <th>srcip</th>\n",
       "      <th>sport</th>\n",
       "      <th>dstip</th>\n",
       "      <th>dsport</th>\n",
       "      <th>proto</th>\n",
       "      <th>state</th>\n",
       "      <th>dur</th>\n",
       "      <th>sbytes</th>\n",
       "      <th>dbytes</th>\n",
       "      <th>sttl</th>\n",
       "      <th>...</th>\n",
       "      <th>ct_ftp_cmd</th>\n",
       "      <th>ct_srv_src</th>\n",
       "      <th>ct_srv_dst</th>\n",
       "      <th>ct_dst_ltm</th>\n",
       "      <th>ct_src_ ltm</th>\n",
       "      <th>ct_src_dport_ltm</th>\n",
       "      <th>ct_dst_sport_ltm</th>\n",
       "      <th>ct_dst_src_ltm</th>\n",
       "      <th>attack_cat</th>\n",
       "      <th>Label</th>\n",
       "    </tr>\n",
       "  </thead>\n",
       "  <tbody>\n",
       "    <tr>\n",
       "      <th>39</th>\n",
       "      <td>175.45.176.2</td>\n",
       "      <td>13792</td>\n",
       "      <td>149.171.126.16</td>\n",
       "      <td>5555</td>\n",
       "      <td>tcp</td>\n",
       "      <td>FIN</td>\n",
       "      <td>0.175190</td>\n",
       "      <td>8168</td>\n",
       "      <td>268</td>\n",
       "      <td>254</td>\n",
       "      <td>...</td>\n",
       "      <td>0</td>\n",
       "      <td>1</td>\n",
       "      <td>1</td>\n",
       "      <td>1</td>\n",
       "      <td>1</td>\n",
       "      <td>1</td>\n",
       "      <td>1</td>\n",
       "      <td>1</td>\n",
       "      <td>Exploits</td>\n",
       "      <td>1</td>\n",
       "    </tr>\n",
       "    <tr>\n",
       "      <th>79</th>\n",
       "      <td>175.45.176.3</td>\n",
       "      <td>44762</td>\n",
       "      <td>149.171.126.12</td>\n",
       "      <td>80</td>\n",
       "      <td>tcp</td>\n",
       "      <td>FIN</td>\n",
       "      <td>0.232939</td>\n",
       "      <td>828</td>\n",
       "      <td>4004</td>\n",
       "      <td>62</td>\n",
       "      <td>...</td>\n",
       "      <td>0</td>\n",
       "      <td>1</td>\n",
       "      <td>1</td>\n",
       "      <td>1</td>\n",
       "      <td>1</td>\n",
       "      <td>1</td>\n",
       "      <td>1</td>\n",
       "      <td>1</td>\n",
       "      <td>Exploits</td>\n",
       "      <td>1</td>\n",
       "    </tr>\n",
       "    <tr>\n",
       "      <th>97</th>\n",
       "      <td>59.166.0.2</td>\n",
       "      <td>39128</td>\n",
       "      <td>149.171.126.1</td>\n",
       "      <td>48372</td>\n",
       "      <td>udp</td>\n",
       "      <td>CON</td>\n",
       "      <td>0.001793</td>\n",
       "      <td>520</td>\n",
       "      <td>304</td>\n",
       "      <td>31</td>\n",
       "      <td>...</td>\n",
       "      <td>0</td>\n",
       "      <td>5</td>\n",
       "      <td>3</td>\n",
       "      <td>2</td>\n",
       "      <td>1</td>\n",
       "      <td>1</td>\n",
       "      <td>1</td>\n",
       "      <td>1</td>\n",
       "      <td>NaN</td>\n",
       "      <td>0</td>\n",
       "    </tr>\n",
       "    <tr>\n",
       "      <th>104</th>\n",
       "      <td>59.166.0.7</td>\n",
       "      <td>60615</td>\n",
       "      <td>149.171.126.9</td>\n",
       "      <td>111</td>\n",
       "      <td>udp</td>\n",
       "      <td>CON</td>\n",
       "      <td>0.004837</td>\n",
       "      <td>568</td>\n",
       "      <td>312</td>\n",
       "      <td>31</td>\n",
       "      <td>...</td>\n",
       "      <td>0</td>\n",
       "      <td>2</td>\n",
       "      <td>4</td>\n",
       "      <td>2</td>\n",
       "      <td>5</td>\n",
       "      <td>1</td>\n",
       "      <td>1</td>\n",
       "      <td>2</td>\n",
       "      <td>NaN</td>\n",
       "      <td>0</td>\n",
       "    </tr>\n",
       "    <tr>\n",
       "      <th>129</th>\n",
       "      <td>59.166.0.6</td>\n",
       "      <td>53847</td>\n",
       "      <td>149.171.126.5</td>\n",
       "      <td>53</td>\n",
       "      <td>udp</td>\n",
       "      <td>CON</td>\n",
       "      <td>0.001117</td>\n",
       "      <td>146</td>\n",
       "      <td>178</td>\n",
       "      <td>31</td>\n",
       "      <td>...</td>\n",
       "      <td>0</td>\n",
       "      <td>5</td>\n",
       "      <td>7</td>\n",
       "      <td>1</td>\n",
       "      <td>2</td>\n",
       "      <td>2</td>\n",
       "      <td>1</td>\n",
       "      <td>1</td>\n",
       "      <td>NaN</td>\n",
       "      <td>0</td>\n",
       "    </tr>\n",
       "  </tbody>\n",
       "</table>\n",
       "<p>5 rows × 49 columns</p>\n",
       "</div>"
      ],
      "text/plain": [
       "            srcip  sport           dstip dsport proto state       dur  sbytes  \\\n",
       "39   175.45.176.2  13792  149.171.126.16   5555   tcp   FIN  0.175190    8168   \n",
       "79   175.45.176.3  44762  149.171.126.12     80   tcp   FIN  0.232939     828   \n",
       "97     59.166.0.2  39128   149.171.126.1  48372   udp   CON  0.001793     520   \n",
       "104    59.166.0.7  60615   149.171.126.9    111   udp   CON  0.004837     568   \n",
       "129    59.166.0.6  53847   149.171.126.5     53   udp   CON  0.001117     146   \n",
       "\n",
       "     dbytes  sttl  ...  ct_ftp_cmd  ct_srv_src  ct_srv_dst ct_dst_ltm  \\\n",
       "39      268   254  ...           0           1           1          1   \n",
       "79     4004    62  ...           0           1           1          1   \n",
       "97      304    31  ...           0           5           3          2   \n",
       "104     312    31  ...           0           2           4          2   \n",
       "129     178    31  ...           0           5           7          1   \n",
       "\n",
       "     ct_src_ ltm  ct_src_dport_ltm  ct_dst_sport_ltm  ct_dst_src_ltm  \\\n",
       "39             1                 1                 1               1   \n",
       "79             1                 1                 1               1   \n",
       "97             1                 1                 1               1   \n",
       "104            5                 1                 1               2   \n",
       "129            2                 2                 1               1   \n",
       "\n",
       "     attack_cat  Label  \n",
       "39     Exploits      1  \n",
       "79     Exploits      1  \n",
       "97          NaN      0  \n",
       "104         NaN      0  \n",
       "129         NaN      0  \n",
       "\n",
       "[5 rows x 49 columns]"
      ]
     },
     "execution_count": 1,
     "metadata": {},
     "output_type": "execute_result"
    }
   ],
   "source": [
    "import os\n",
    "import pandas as pd\n",
    "import numpy as np\n",
    "import matplotlib.pyplot as plt\n",
    "import seaborn as sns\n",
    "from sklearn.model_selection import train_test_split\n",
    "from sklearn.pipeline import make_pipeline\n",
    "from sklearn.preprocessing import StandardScaler\n",
    "from sklearn.svm import SVC, OneClassSVM\n",
    "from sklearn.neural_network import MLPClassifier\n",
    "from sklearn.neighbors import KNeighborsClassifier\n",
    "from sklearn.ensemble import RandomForestClassifier, GradientBoostingClassifier\n",
    "from sklearn.linear_model import LogisticRegression\n",
    "from sklearn.metrics import f1_score, accuracy_score, precision_score, confusion_matrix, recall_score\n",
    "import copy\n",
    "\n",
    "# How big is train dataset ?\n",
    "train_test_ratio = 0.039\n",
    "np.random.RandomState(seed=42)\n",
    "\n",
    "data_path = os.path.abspath(os.path.join(os.getcwd(), '..',  'dataset'))\n",
    "\n",
    "names = pd.read_csv(os.path.join(data_path, 'NUSW-NB15_features_v2.csv'))['Name'].tolist()\n",
    "\n",
    "frames = []\n",
    "\n",
    "frames.append(pd.read_csv(os.path.join(data_path, \"UNSW-NB15_1.csv\"), names=names))\n",
    "# Uncomment to load all csv\n",
    "frames.append(pd.read_csv(os.path.join(data_path, \"UNSW-NB15_2.csv\"), names=names))\n",
    "frames.append(pd.read_csv(os.path.join(data_path, \"UNSW-NB15_3.csv\"), names=names))\n",
    "frames.append(pd.read_csv(os.path.join(data_path, \"UNSW-NB15_4.csv\"), names=names))\n",
    "\n",
    "df = pd.concat(frames, axis=0, ignore_index=True)\n",
    "\n",
    "mask = np.random.rand(len(df)) < train_test_ratio\n",
    "train = df[mask]\n",
    "test = df[~mask]\n",
    "\n",
    "# Clear memory\n",
    "del df\n",
    "\n",
    "train.head()"
   ]
  },
  {
   "cell_type": "code",
   "execution_count": 2,
   "id": "a9ef17d3",
   "metadata": {
    "scrolled": false
   },
   "outputs": [
    {
     "name": "stdout",
     "output_type": "stream",
     "text": [
      "<class 'pandas.core.frame.DataFrame'>\n",
      "Int64Index: 99087 entries, 39 to 2540046\n",
      "Data columns (total 49 columns):\n",
      " #   Column            Non-Null Count  Dtype  \n",
      "---  ------            --------------  -----  \n",
      " 0   srcip             99087 non-null  object \n",
      " 1   sport             99087 non-null  object \n",
      " 2   dstip             99087 non-null  object \n",
      " 3   dsport            99087 non-null  object \n",
      " 4   proto             99087 non-null  object \n",
      " 5   state             99087 non-null  object \n",
      " 6   dur               99087 non-null  float64\n",
      " 7   sbytes            99087 non-null  int64  \n",
      " 8   dbytes            99087 non-null  int64  \n",
      " 9   sttl              99087 non-null  int64  \n",
      " 10  dttl              99087 non-null  int64  \n",
      " 11  sloss             99087 non-null  int64  \n",
      " 12  dloss             99087 non-null  int64  \n",
      " 13  service           99087 non-null  object \n",
      " 14  Sload             99087 non-null  float64\n",
      " 15  Dload             99087 non-null  float64\n",
      " 16  Spkts             99087 non-null  int64  \n",
      " 17  Dpkts             99087 non-null  int64  \n",
      " 18  swin              99087 non-null  int64  \n",
      " 19  dwin              99087 non-null  int64  \n",
      " 20  stcpb             99087 non-null  int64  \n",
      " 21  dtcpb             99087 non-null  int64  \n",
      " 22  smeansz           99087 non-null  int64  \n",
      " 23  dmeansz           99087 non-null  int64  \n",
      " 24  trans_depth       99087 non-null  int64  \n",
      " 25  res_bdy_len       99087 non-null  int64  \n",
      " 26  Sjit              99087 non-null  float64\n",
      " 27  Djit              99087 non-null  float64\n",
      " 28  Stime             99087 non-null  int64  \n",
      " 29  Ltime             99087 non-null  int64  \n",
      " 30  Sintpkt           99087 non-null  float64\n",
      " 31  Dintpkt           99087 non-null  float64\n",
      " 32  tcprtt            99087 non-null  float64\n",
      " 33  synack            99087 non-null  float64\n",
      " 34  ackdat            99087 non-null  float64\n",
      " 35  is_sm_ips_ports   99087 non-null  int64  \n",
      " 36  ct_state_ttl      99087 non-null  int64  \n",
      " 37  ct_flw_http_mthd  46485 non-null  float64\n",
      " 38  is_ftp_login      43408 non-null  float64\n",
      " 39  ct_ftp_cmd        99087 non-null  object \n",
      " 40  ct_srv_src        99087 non-null  int64  \n",
      " 41  ct_srv_dst        99087 non-null  int64  \n",
      " 42  ct_dst_ltm        99087 non-null  int64  \n",
      " 43  ct_src_ ltm       99087 non-null  int64  \n",
      " 44  ct_src_dport_ltm  99087 non-null  int64  \n",
      " 45  ct_dst_sport_ltm  99087 non-null  int64  \n",
      " 46  ct_dst_src_ltm    99087 non-null  int64  \n",
      " 47  attack_cat        12493 non-null  object \n",
      " 48  Label             99087 non-null  int64  \n",
      "dtypes: float64(12), int64(28), object(9)\n",
      "memory usage: 37.8+ MB\n"
     ]
    }
   ],
   "source": [
    "# Info about data types and columns\n",
    "train.info()"
   ]
  },
  {
   "cell_type": "code",
   "execution_count": 3,
   "id": "df0c1cd0",
   "metadata": {},
   "outputs": [
    {
     "data": {
      "text/plain": [
       "srcip                   0\n",
       "sport                   0\n",
       "dstip                   0\n",
       "dsport                  0\n",
       "proto                   0\n",
       "state                   0\n",
       "dur                     0\n",
       "sbytes                  0\n",
       "dbytes                  0\n",
       "sttl                    0\n",
       "dttl                    0\n",
       "sloss                   0\n",
       "dloss                   0\n",
       "service                 0\n",
       "Sload                   0\n",
       "Dload                   0\n",
       "Spkts                   0\n",
       "Dpkts                   0\n",
       "swin                    0\n",
       "dwin                    0\n",
       "stcpb                   0\n",
       "dtcpb                   0\n",
       "smeansz                 0\n",
       "dmeansz                 0\n",
       "trans_depth             0\n",
       "res_bdy_len             0\n",
       "Sjit                    0\n",
       "Djit                    0\n",
       "Stime                   0\n",
       "Ltime                   0\n",
       "Sintpkt                 0\n",
       "Dintpkt                 0\n",
       "tcprtt                  0\n",
       "synack                  0\n",
       "ackdat                  0\n",
       "is_sm_ips_ports         0\n",
       "ct_state_ttl            0\n",
       "ct_flw_http_mthd    52602\n",
       "is_ftp_login        55679\n",
       "ct_ftp_cmd              0\n",
       "ct_srv_src              0\n",
       "ct_srv_dst              0\n",
       "ct_dst_ltm              0\n",
       "ct_src_ ltm             0\n",
       "ct_src_dport_ltm        0\n",
       "ct_dst_sport_ltm        0\n",
       "ct_dst_src_ltm          0\n",
       "attack_cat          86594\n",
       "Label                   0\n",
       "dtype: int64"
      ]
     },
     "execution_count": 3,
     "metadata": {},
     "output_type": "execute_result"
    }
   ],
   "source": [
    "# Count null values in columns\n",
    "train.isnull().sum()"
   ]
  },
  {
   "cell_type": "code",
   "execution_count": 4,
   "id": "24bb0aca",
   "metadata": {},
   "outputs": [
    {
     "data": {
      "text/plain": [
       "0    86594\n",
       "1    12493\n",
       "Name: Label, dtype: int64"
      ]
     },
     "execution_count": 4,
     "metadata": {},
     "output_type": "execute_result"
    }
   ],
   "source": [
    "# How many attacks and normal records do we have ?\n",
    "train['Label'].value_counts()"
   ]
  },
  {
   "cell_type": "code",
   "execution_count": 5,
   "id": "93d7c472",
   "metadata": {},
   "outputs": [
    {
     "data": {
      "text/plain": [
       "<BarContainer object of 40 artists>"
      ]
     },
     "execution_count": 5,
     "metadata": {},
     "output_type": "execute_result"
    },
    {
     "data": {
      "image/png": "[encoded data removed]",
      "text/plain": [
       "<Figure size 432x288 with 1 Axes>"
      ]
     },
     "metadata": {
      "needs_background": "light"
     },
     "output_type": "display_data"
    }
   ],
   "source": [
    "correlation = train.corr()['Label']\n",
    "\n",
    "plt.bar(correlation.keys(), correlation.tolist())\n",
    "# plt.show()"
   ]
  },
  {
   "cell_type": "code",
   "execution_count": 6,
   "id": "5f56ea57",
   "metadata": {},
   "outputs": [
    {
     "data": {
      "text/plain": [
       "['sttl',\n",
       " 'Dload',\n",
       " 'swin',\n",
       " 'dwin',\n",
       " 'stcpb',\n",
       " 'dtcpb',\n",
       " 'dmeansz',\n",
       " 'Stime',\n",
       " 'Ltime',\n",
       " 'ct_state_ttl',\n",
       " 'ct_srv_src',\n",
       " 'ct_srv_dst',\n",
       " 'ct_dst_ltm',\n",
       " 'ct_src_ ltm',\n",
       " 'ct_src_dport_ltm',\n",
       " 'ct_dst_sport_ltm',\n",
       " 'ct_dst_src_ltm']"
      ]
     },
     "execution_count": 6,
     "metadata": {},
     "output_type": "execute_result"
    }
   ],
   "source": [
    "corr_dict = correlation.to_dict()\n",
    "correlation_treshold = 0.2\n",
    "\n",
    "# Return column names where correlation is greater or equal than threshold\n",
    "column_names = [key for key, value in corr_dict.items() if abs(value) >= correlation_treshold]\n",
    "column_names.remove('Label')\n",
    "column_names"
   ]
  },
  {
   "cell_type": "code",
   "execution_count": 7,
   "id": "499b7606",
   "metadata": {},
   "outputs": [],
   "source": [
    "scaler = StandardScaler()\n",
    "\n",
    "X_train = scaler.fit_transform(train[column_names])\n",
    "y_train = train['Label']\n",
    "# del train\n",
    "\n",
    "X_test = scaler.transform(test[column_names])\n",
    "y_test = test['Label']\n",
    "# del test"
   ]
  },
  {
   "cell_type": "code",
   "execution_count": 9,
   "id": "29eecd6d",
   "metadata": {},
   "outputs": [],
   "source": [
    "classifiers = {\n",
    "    'logreg': LogisticRegression(),\n",
    "    'forest': RandomForestClassifier(),\n",
    "    'gradboost': GradientBoostingClassifier(),\n",
    "    'svc': SVC(),\n",
    "    'mlp': MLPClassifier()\n",
    "}"
   ]
  },
  {
   "cell_type": "code",
   "execution_count": 10,
   "id": "d1c9eabc",
   "metadata": {},
   "outputs": [],
   "source": [
    "results = []\n",
    "conf_matrix = {}\n",
    "\n",
    "for name, clf in classifiers.items():\n",
    "    clf.fit(X_train, y_train)\n",
    "    y_pred = clf.predict(X_test)\n",
    "    f1 = f1_score(y_test, y_pred)\n",
    "    prec = precision_score(y_test, y_pred)\n",
    "    rec = recall_score(y_test, y_pred)\n",
    "    acc = accuracy_score(y_test, y_pred)\n",
    "    \n",
    "    results.append([name, f1, prec, rec, acc])\n",
    "    conf_matrix[name] = confusion_matrix(y_test, y_pred)\n",
    "    \n",
    "df_results = pd.DataFrame(results, columns=['model', 'f1', 'precision', 'recall', 'accuracy'])"
   ]
  },
  {
   "cell_type": "code",
   "execution_count": 11,
   "id": "adda3c95",
   "metadata": {},
   "outputs": [
    {
     "data": {
      "text/html": [
       "<div>\n",
       "<style scoped>\n",
       "    .dataframe tbody tr th:only-of-type {\n",
       "        vertical-align: middle;\n",
       "    }\n",
       "\n",
       "    .dataframe tbody tr th {\n",
       "        vertical-align: top;\n",
       "    }\n",
       "\n",
       "    .dataframe thead th {\n",
       "        text-align: right;\n",
       "    }\n",
       "</style>\n",
       "<table border=\"1\" class=\"dataframe\">\n",
       "  <thead>\n",
       "    <tr style=\"text-align: right;\">\n",
       "      <th></th>\n",
       "      <th>model</th>\n",
       "      <th>f1</th>\n",
       "      <th>precision</th>\n",
       "      <th>recall</th>\n",
       "      <th>accuracy</th>\n",
       "    </tr>\n",
       "  </thead>\n",
       "  <tbody>\n",
       "    <tr>\n",
       "      <th>0</th>\n",
       "      <td>logreg</td>\n",
       "      <td>0.9232</td>\n",
       "      <td>0.9090</td>\n",
       "      <td>0.9379</td>\n",
       "      <td>0.9803</td>\n",
       "    </tr>\n",
       "    <tr>\n",
       "      <th>1</th>\n",
       "      <td>forest</td>\n",
       "      <td>0.9648</td>\n",
       "      <td>0.9682</td>\n",
       "      <td>0.9614</td>\n",
       "      <td>0.9911</td>\n",
       "    </tr>\n",
       "    <tr>\n",
       "      <th>2</th>\n",
       "      <td>gradboost</td>\n",
       "      <td>0.9646</td>\n",
       "      <td>0.9614</td>\n",
       "      <td>0.9678</td>\n",
       "      <td>0.9910</td>\n",
       "    </tr>\n",
       "    <tr>\n",
       "      <th>3</th>\n",
       "      <td>svc</td>\n",
       "      <td>0.9559</td>\n",
       "      <td>0.9270</td>\n",
       "      <td>0.9867</td>\n",
       "      <td>0.9885</td>\n",
       "    </tr>\n",
       "    <tr>\n",
       "      <th>4</th>\n",
       "      <td>mlp</td>\n",
       "      <td>0.9587</td>\n",
       "      <td>0.9426</td>\n",
       "      <td>0.9754</td>\n",
       "      <td>0.9894</td>\n",
       "    </tr>\n",
       "  </tbody>\n",
       "</table>\n",
       "</div>"
      ],
      "text/plain": [
       "       model      f1  precision  recall  accuracy\n",
       "0     logreg  0.9232     0.9090  0.9379    0.9803\n",
       "1     forest  0.9648     0.9682  0.9614    0.9911\n",
       "2  gradboost  0.9646     0.9614  0.9678    0.9910\n",
       "3        svc  0.9559     0.9270  0.9867    0.9885\n",
       "4        mlp  0.9587     0.9426  0.9754    0.9894"
      ]
     },
     "execution_count": 11,
     "metadata": {},
     "output_type": "execute_result"
    }
   ],
   "source": [
    "df_results.round(4)"
   ]
  },
  {
   "cell_type": "code",
   "execution_count": 16,
   "id": "0d88b429",
   "metadata": {},
   "outputs": [],
   "source": [
    "for key, item in conf_matrix.items():\n",
    "    conf_matrix[key] = item / len(test)"
   ]
  },
  {
   "cell_type": "code",
   "execution_count": 24,
   "id": "10bb13de",
   "metadata": {},
   "outputs": [
    {
     "data": {
      "image/png": "[encoded data removed]",
      "text/plain": [
       "<Figure size 1080x432 with 5 Axes>"
      ]
     },
     "metadata": {
      "needs_background": "light"
     },
     "output_type": "display_data"
    }
   ],
   "source": [
    "fig, axes = plt.subplots(1, 5, figsize=(15, 6), sharey=True, sharex=True, constrained_layout=True)\n",
    "axes = axes.flatten()\n",
    "\n",
    "for i, (model, cm) in enumerate(conf_matrix.items()):\n",
    "    ax = axes[i]\n",
    "    sns.heatmap(cm, ax=ax, annot=True, square=True, cbar=False,\n",
    "                fmt=\".2%\", vmin=0, vmax=cm.sum().sum(), annot_kws={'size': 13})\n",
    "    \n",
    "    ax.set_title(model, fontsize=16)\n",
    "    ax.margins(0)\n",
    "    ax.grid(False)\n",
    "    \n",
    "    if i == 0:\n",
    "        ax.set_ylabel('true label')\n",
    "    ax.set_xlabel('predicted label')"
   ]
  },
  {
   "cell_type": "markdown",
   "id": "c2a34621",
   "metadata": {},
   "source": [
    "# One Class SVM"
   ]
  },
  {
   "cell_type": "markdown",
   "id": "724cbe9c",
   "metadata": {},
   "source": [
    "Getting highly correlated features to reduce time for training."
   ]
  },
  {
   "cell_type": "code",
   "execution_count": null,
   "id": "6ad2bb6d",
   "metadata": {},
   "outputs": [],
   "source": [
    "corr_dict = correlation.to_dict()\n",
    "correlation_treshold_for_OCSVM = 0.6\n",
    "\n",
    "# Return column names where correlation is greater or equal than threshold\n",
    "column_names_for_OCSVM = [key for key, value in corr_dict.items() if abs(value) >= correlation_treshold_for_OCSVM]\n",
    "column_names_for_OCSVM.remove('Label')\n",
    "column_names_for_OCSVM = [  'dwin',\n",
    "                            'stcpb',\n",
    "                            'dtcpb'] # changed for testing"
   ]
  },
  {
   "cell_type": "markdown",
   "id": "83f50884",
   "metadata": {},
   "source": [
    "## OCSVM trained on full set of data\n",
    "\n",
    "OCSVM model trained on both attack and not attack data. It should create a model that labels attacks as outliers (gives them -1)."
   ]
  },
  {
   "cell_type": "code",
   "execution_count": null,
   "id": "42c0ef7f",
   "metadata": {},
   "outputs": [],
   "source": [
    "# svm One Class\n",
    "\n",
    "# Load data\n",
    "x_train = train[column_names_for_OCSVM]\n",
    "x_test = test[column_names_for_OCSVM]\n",
    "\n",
    "one_class_svm = OneClassSVM(gamma='auto')\n",
    "output = one_class_svm.fit_predict(x_train)"
   ]
  },
  {
   "cell_type": "code",
   "execution_count": null,
   "id": "66283d31",
   "metadata": {},
   "outputs": [],
   "source": [
    "new_output = copy.deepcopy(output)\n",
    "\n",
    "for count, out in enumerate(output):\n",
    "    if out == -1:\n",
    "        new_output[count] = 1\n",
    "    else:\n",
    "        new_output[count] = 0"
   ]
  },
  {
   "cell_type": "code",
   "execution_count": null,
   "id": "d9875fc0",
   "metadata": {},
   "outputs": [],
   "source": [
    "y_train_output = train['Label']\n",
    "\n",
    "tn, fp, fn, tp = confusion_matrix(new_output, y_train_output).ravel()\n",
    "print(f\"TP: {tp}\")\n",
    "print(f\"TN: {tn}\")\n",
    "print(f\"FP: {fp}\")\n",
    "print(f\"FN: {fn} <- attacks not detected\")"
   ]
  },
  {
   "cell_type": "markdown",
   "id": "db9b5807",
   "metadata": {},
   "source": [
    "Model does not detect attacks."
   ]
  },
  {
   "cell_type": "code",
   "execution_count": null,
   "id": "05315428",
   "metadata": {},
   "outputs": [],
   "source": [
    "y_test_output = one_class_svm.predict(test[column_names_for_OCSVM])"
   ]
  },
  {
   "cell_type": "code",
   "execution_count": null,
   "id": "b8089c8d",
   "metadata": {},
   "outputs": [],
   "source": [
    "# Good train data (no attacks)\n",
    "\n",
    "x_train_no_attacts = train[train['Label'] == 0]\n",
    "\n",
    "x_train_no_attacts = x_train_no_attacts[column_names_for_OCSVM]\n",
    "\n",
    "one_class_svm_only_good_data = OneClassSVM(gamma='auto')\n",
    "output_only_good_data = one_class_svm_only_good_data.fit(x_train_no_attacts)\n",
    "\n",
    "x_train_no_attacts\n"
   ]
  },
  {
   "cell_type": "code",
   "execution_count": null,
   "id": "7c660a53",
   "metadata": {},
   "outputs": [],
   "source": [
    "# test OCSVM that was trained only on good data\n",
    "\n",
    "y_test_output_good_data = one_class_svm_only_good_data.predict(test[column_names_for_OCSVM].head(10000))\n",
    "\n",
    "y_test_output_good_data"
   ]
  },
  {
   "cell_type": "code",
   "execution_count": null,
   "id": "83356a07",
   "metadata": {},
   "outputs": [],
   "source": [
    "new_y_test_output_good_data = copy.deepcopy(y_test_output_good_data)\n",
    "\n",
    "for count, out in enumerate(y_test_output_good_data):\n",
    "    if out == -1:\n",
    "        new_y_test_output_good_data[count] = 1\n",
    "    else:\n",
    "        new_y_test_output_good_data[count] = 0\n",
    "print(len(new_y_test_output_good_data))\n",
    "print(np.sum(new_y_test_output_good_data))\n"
   ]
  },
  {
   "cell_type": "code",
   "execution_count": null,
   "id": "2577c734",
   "metadata": {},
   "outputs": [],
   "source": [
    "y_label_good_data = test['Label'].head(10000)\n",
    "tn, fp, fn, tp = confusion_matrix(y_label_good_data, new_y_test_output_good_data).ravel()\n",
    "print(f\"TP: {tp}\")\n",
    "print(f\"TN: {tn}\")\n",
    "print(f\"FP: {fp}\")\n",
    "print(f\"FN: {fn} <- attacks not detected\")"
   ]
  },
  {
   "cell_type": "markdown",
   "id": "057b5b45",
   "metadata": {},
   "source": [
    "### Results:\n",
    "One Class SVM for tested features does not detect attacks and is not suitable for detecting network attacks.\n",
    "It also takes a lot of time to train for higher number of features. \n",
    "To create a better OCSVM model we need to find features where distance between attacks and not attacks is highest. That would improve model's accuracy.\n"
   ]
  }
 ],
 "metadata": {
  "interpreter": {
   "hash": "bcc8378988483142d0d745233416534782bb7caf8f6433b4451eca61fdf27a5c"
  },
  "kernelspec": {
   "display_name": "Python 3",
   "language": "python",
   "name": "python3"
  },
  "language_info": {
   "codemirror_mode": {
    "name": "ipython",
    "version": 3
   },
   "file_extension": ".py",
   "mimetype": "text/x-python",
   "name": "python",
   "nbconvert_exporter": "python",
   "pygments_lexer": "ipython3",
   "version": "3.7.10"
  }
 },
 "nbformat": 4,
 "nbformat_minor": 5
}
