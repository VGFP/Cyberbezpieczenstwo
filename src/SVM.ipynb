{
 "cells": [
  {
   "cell_type": "code",
   "execution_count": null,
   "id": "c5b73323",
   "metadata": {},
   "outputs": [],
   "source": [
    "%pip install pandas\n",
    "%pip install numpy\n",
    "%pip install sklearn\n",
    "%pip install matplotlib"
   ]
  },
  {
   "cell_type": "code",
   "execution_count": 12,
   "id": "74eb2a9d",
   "metadata": {
    "scrolled": false
   },
   "outputs": [
    {
     "name": "stderr",
     "output_type": "stream",
     "text": [
      "C:\\Users\\Dominik\\miniconda3\\envs\\tensorflow\\lib\\site-packages\\IPython\\core\\interactiveshell.py:3166: DtypeWarning: Columns (1,3,47) have mixed types.Specify dtype option on import or set low_memory=False.\n",
      "  interactivity=interactivity, compiler=compiler, result=result)\n",
      "C:\\Users\\Dominik\\miniconda3\\envs\\tensorflow\\lib\\site-packages\\IPython\\core\\interactiveshell.py:3166: DtypeWarning: Columns (3,39,47) have mixed types.Specify dtype option on import or set low_memory=False.\n",
      "  interactivity=interactivity, compiler=compiler, result=result)\n"
     ]
    },
    {
     "data": {
      "text/html": [
       "<div>\n",
       "<style scoped>\n",
       "    .dataframe tbody tr th:only-of-type {\n",
       "        vertical-align: middle;\n",
       "    }\n",
       "\n",
       "    .dataframe tbody tr th {\n",
       "        vertical-align: top;\n",
       "    }\n",
       "\n",
       "    .dataframe thead th {\n",
       "        text-align: right;\n",
       "    }\n",
       "</style>\n",
       "<table border=\"1\" class=\"dataframe\">\n",
       "  <thead>\n",
       "    <tr style=\"text-align: right;\">\n",
       "      <th></th>\n",
       "      <th>srcip</th>\n",
       "      <th>sport</th>\n",
       "      <th>dstip</th>\n",
       "      <th>dsport</th>\n",
       "      <th>proto</th>\n",
       "      <th>state</th>\n",
       "      <th>dur</th>\n",
       "      <th>sbytes</th>\n",
       "      <th>dbytes</th>\n",
       "      <th>sttl</th>\n",
       "      <th>...</th>\n",
       "      <th>ct_ftp_cmd</th>\n",
       "      <th>ct_srv_src</th>\n",
       "      <th>ct_srv_dst</th>\n",
       "      <th>ct_dst_ltm</th>\n",
       "      <th>ct_src_ ltm</th>\n",
       "      <th>ct_src_dport_ltm</th>\n",
       "      <th>ct_dst_sport_ltm</th>\n",
       "      <th>ct_dst_src_ltm</th>\n",
       "      <th>attack_cat</th>\n",
       "      <th>Label</th>\n",
       "    </tr>\n",
       "  </thead>\n",
       "  <tbody>\n",
       "    <tr>\n",
       "      <th>73</th>\n",
       "      <td>59.166.0.2</td>\n",
       "      <td>62824</td>\n",
       "      <td>149.171.126.7</td>\n",
       "      <td>14455</td>\n",
       "      <td>udp</td>\n",
       "      <td>CON</td>\n",
       "      <td>0.001775</td>\n",
       "      <td>520</td>\n",
       "      <td>304</td>\n",
       "      <td>31</td>\n",
       "      <td>...</td>\n",
       "      <td>0</td>\n",
       "      <td>5</td>\n",
       "      <td>4</td>\n",
       "      <td>5</td>\n",
       "      <td>3</td>\n",
       "      <td>1</td>\n",
       "      <td>1</td>\n",
       "      <td>2</td>\n",
       "      <td>NaN</td>\n",
       "      <td>0</td>\n",
       "    </tr>\n",
       "    <tr>\n",
       "      <th>98</th>\n",
       "      <td>59.166.0.6</td>\n",
       "      <td>4318</td>\n",
       "      <td>149.171.126.5</td>\n",
       "      <td>53</td>\n",
       "      <td>udp</td>\n",
       "      <td>CON</td>\n",
       "      <td>0.001112</td>\n",
       "      <td>146</td>\n",
       "      <td>178</td>\n",
       "      <td>31</td>\n",
       "      <td>...</td>\n",
       "      <td>0</td>\n",
       "      <td>12</td>\n",
       "      <td>9</td>\n",
       "      <td>1</td>\n",
       "      <td>2</td>\n",
       "      <td>2</td>\n",
       "      <td>1</td>\n",
       "      <td>1</td>\n",
       "      <td>NaN</td>\n",
       "      <td>0</td>\n",
       "    </tr>\n",
       "    <tr>\n",
       "      <th>118</th>\n",
       "      <td>59.166.0.0</td>\n",
       "      <td>28852</td>\n",
       "      <td>149.171.126.3</td>\n",
       "      <td>53</td>\n",
       "      <td>udp</td>\n",
       "      <td>CON</td>\n",
       "      <td>0.001207</td>\n",
       "      <td>132</td>\n",
       "      <td>164</td>\n",
       "      <td>31</td>\n",
       "      <td>...</td>\n",
       "      <td>0</td>\n",
       "      <td>9</td>\n",
       "      <td>9</td>\n",
       "      <td>3</td>\n",
       "      <td>2</td>\n",
       "      <td>2</td>\n",
       "      <td>1</td>\n",
       "      <td>2</td>\n",
       "      <td>NaN</td>\n",
       "      <td>0</td>\n",
       "    </tr>\n",
       "    <tr>\n",
       "      <th>132</th>\n",
       "      <td>59.166.0.4</td>\n",
       "      <td>64521</td>\n",
       "      <td>149.171.126.9</td>\n",
       "      <td>53</td>\n",
       "      <td>udp</td>\n",
       "      <td>CON</td>\n",
       "      <td>0.001084</td>\n",
       "      <td>146</td>\n",
       "      <td>178</td>\n",
       "      <td>31</td>\n",
       "      <td>...</td>\n",
       "      <td>0</td>\n",
       "      <td>12</td>\n",
       "      <td>6</td>\n",
       "      <td>2</td>\n",
       "      <td>1</td>\n",
       "      <td>1</td>\n",
       "      <td>1</td>\n",
       "      <td>1</td>\n",
       "      <td>NaN</td>\n",
       "      <td>0</td>\n",
       "    </tr>\n",
       "    <tr>\n",
       "      <th>151</th>\n",
       "      <td>59.166.0.8</td>\n",
       "      <td>24521</td>\n",
       "      <td>149.171.126.0</td>\n",
       "      <td>111</td>\n",
       "      <td>udp</td>\n",
       "      <td>CON</td>\n",
       "      <td>0.004458</td>\n",
       "      <td>568</td>\n",
       "      <td>304</td>\n",
       "      <td>31</td>\n",
       "      <td>...</td>\n",
       "      <td>0</td>\n",
       "      <td>4</td>\n",
       "      <td>2</td>\n",
       "      <td>3</td>\n",
       "      <td>3</td>\n",
       "      <td>1</td>\n",
       "      <td>1</td>\n",
       "      <td>2</td>\n",
       "      <td>NaN</td>\n",
       "      <td>0</td>\n",
       "    </tr>\n",
       "  </tbody>\n",
       "</table>\n",
       "<p>5 rows × 49 columns</p>\n",
       "</div>"
      ],
      "text/plain": [
       "          srcip  sport          dstip dsport proto state       dur  sbytes  \\\n",
       "73   59.166.0.2  62824  149.171.126.7  14455   udp   CON  0.001775     520   \n",
       "98   59.166.0.6   4318  149.171.126.5     53   udp   CON  0.001112     146   \n",
       "118  59.166.0.0  28852  149.171.126.3     53   udp   CON  0.001207     132   \n",
       "132  59.166.0.4  64521  149.171.126.9     53   udp   CON  0.001084     146   \n",
       "151  59.166.0.8  24521  149.171.126.0    111   udp   CON  0.004458     568   \n",
       "\n",
       "     dbytes  sttl  ...  ct_ftp_cmd  ct_srv_src  ct_srv_dst ct_dst_ltm  \\\n",
       "73      304    31  ...           0           5           4          5   \n",
       "98      178    31  ...           0          12           9          1   \n",
       "118     164    31  ...           0           9           9          3   \n",
       "132     178    31  ...           0          12           6          2   \n",
       "151     304    31  ...           0           4           2          3   \n",
       "\n",
       "     ct_src_ ltm  ct_src_dport_ltm  ct_dst_sport_ltm  ct_dst_src_ltm  \\\n",
       "73             3                 1                 1               2   \n",
       "98             2                 2                 1               1   \n",
       "118            2                 2                 1               2   \n",
       "132            1                 1                 1               1   \n",
       "151            3                 1                 1               2   \n",
       "\n",
       "     attack_cat  Label  \n",
       "73          NaN      0  \n",
       "98          NaN      0  \n",
       "118         NaN      0  \n",
       "132         NaN      0  \n",
       "151         NaN      0  \n",
       "\n",
       "[5 rows x 49 columns]"
      ]
     },
     "execution_count": 12,
     "metadata": {},
     "output_type": "execute_result"
    }
   ],
   "source": [
    "import os\n",
    "import pandas as pd\n",
    "import numpy as np\n",
    "import matplotlib.pyplot as plt\n",
    "from sklearn.model_selection import train_test_split\n",
    "from sklearn.pipeline import make_pipeline\n",
    "from sklearn.preprocessing import StandardScaler\n",
    "from sklearn.svm import SVC\n",
    "from sklearn.metrics import f1_score, accuracy_score, average_precision_score, confusion_matrix\n",
    "# How big is train dataset ?\n",
    "train_test_ratio = 0.039\n",
    "np.random.RandomState(seed=42)\n",
    "\n",
    "data_path = os.path.abspath(os.path.join(os.getcwd(), '..',  'dataset'))\n",
    "\n",
    "names = pd.read_csv(os.path.join(data_path, 'NUSW-NB15_features_v2.csv'))['Name'].tolist()\n",
    "\n",
    "frames = []\n",
    "\n",
    "frames.append(pd.read_csv(os.path.join(data_path, \"UNSW-NB15_1.csv\"), names=names))\n",
    "# Uncomment to load all csv\n",
    "frames.append(pd.read_csv(os.path.join(data_path, \"UNSW-NB15_2.csv\"), names=names))\n",
    "frames.append(pd.read_csv(os.path.join(data_path, \"UNSW-NB15_3.csv\"), names=names))\n",
    "frames.append(pd.read_csv(os.path.join(data_path, \"UNSW-NB15_4.csv\"), names=names))\n",
    "\n",
    "df = pd.concat(frames, axis=0, ignore_index=True)\n",
    "\n",
    "mask = np.random.rand(len(df)) < train_test_ratio\n",
    "train = df[mask]\n",
    "test = df[~mask]\n",
    "\n",
    "# Clear memory\n",
    "del df\n",
    "\n",
    "train.head()"
   ]
  },
  {
   "cell_type": "code",
   "execution_count": 13,
   "id": "a9ef17d3",
   "metadata": {
    "scrolled": false
   },
   "outputs": [
    {
     "name": "stdout",
     "output_type": "stream",
     "text": [
      "<class 'pandas.core.frame.DataFrame'>\n",
      "Int64Index: 98973 entries, 73 to 2540045\n",
      "Data columns (total 49 columns):\n",
      " #   Column            Non-Null Count  Dtype  \n",
      "---  ------            --------------  -----  \n",
      " 0   srcip             98973 non-null  object \n",
      " 1   sport             98973 non-null  object \n",
      " 2   dstip             98973 non-null  object \n",
      " 3   dsport            98973 non-null  object \n",
      " 4   proto             98973 non-null  object \n",
      " 5   state             98973 non-null  object \n",
      " 6   dur               98973 non-null  float64\n",
      " 7   sbytes            98973 non-null  int64  \n",
      " 8   dbytes            98973 non-null  int64  \n",
      " 9   sttl              98973 non-null  int64  \n",
      " 10  dttl              98973 non-null  int64  \n",
      " 11  sloss             98973 non-null  int64  \n",
      " 12  dloss             98973 non-null  int64  \n",
      " 13  service           98973 non-null  object \n",
      " 14  Sload             98973 non-null  float64\n",
      " 15  Dload             98973 non-null  float64\n",
      " 16  Spkts             98973 non-null  int64  \n",
      " 17  Dpkts             98973 non-null  int64  \n",
      " 18  swin              98973 non-null  int64  \n",
      " 19  dwin              98973 non-null  int64  \n",
      " 20  stcpb             98973 non-null  int64  \n",
      " 21  dtcpb             98973 non-null  int64  \n",
      " 22  smeansz           98973 non-null  int64  \n",
      " 23  dmeansz           98973 non-null  int64  \n",
      " 24  trans_depth       98973 non-null  int64  \n",
      " 25  res_bdy_len       98973 non-null  int64  \n",
      " 26  Sjit              98973 non-null  float64\n",
      " 27  Djit              98973 non-null  float64\n",
      " 28  Stime             98973 non-null  int64  \n",
      " 29  Ltime             98973 non-null  int64  \n",
      " 30  Sintpkt           98973 non-null  float64\n",
      " 31  Dintpkt           98973 non-null  float64\n",
      " 32  tcprtt            98973 non-null  float64\n",
      " 33  synack            98973 non-null  float64\n",
      " 34  ackdat            98973 non-null  float64\n",
      " 35  is_sm_ips_ports   98973 non-null  int64  \n",
      " 36  ct_state_ttl      98973 non-null  int64  \n",
      " 37  ct_flw_http_mthd  46455 non-null  float64\n",
      " 38  is_ftp_login      43184 non-null  float64\n",
      " 39  ct_ftp_cmd        98973 non-null  object \n",
      " 40  ct_srv_src        98973 non-null  int64  \n",
      " 41  ct_srv_dst        98973 non-null  int64  \n",
      " 42  ct_dst_ltm        98973 non-null  int64  \n",
      " 43  ct_src_ ltm       98973 non-null  int64  \n",
      " 44  ct_src_dport_ltm  98973 non-null  int64  \n",
      " 45  ct_dst_sport_ltm  98973 non-null  int64  \n",
      " 46  ct_dst_src_ltm    98973 non-null  int64  \n",
      " 47  attack_cat        12703 non-null  object \n",
      " 48  Label             98973 non-null  int64  \n",
      "dtypes: float64(12), int64(28), object(9)\n",
      "memory usage: 37.8+ MB\n"
     ]
    }
   ],
   "source": [
    "# Info about data types and columns\n",
    "train.info()"
   ]
  },
  {
   "cell_type": "code",
   "execution_count": 14,
   "id": "df0c1cd0",
   "metadata": {},
   "outputs": [
    {
     "data": {
      "text/plain": [
       "srcip                   0\n",
       "sport                   0\n",
       "dstip                   0\n",
       "dsport                  0\n",
       "proto                   0\n",
       "state                   0\n",
       "dur                     0\n",
       "sbytes                  0\n",
       "dbytes                  0\n",
       "sttl                    0\n",
       "dttl                    0\n",
       "sloss                   0\n",
       "dloss                   0\n",
       "service                 0\n",
       "Sload                   0\n",
       "Dload                   0\n",
       "Spkts                   0\n",
       "Dpkts                   0\n",
       "swin                    0\n",
       "dwin                    0\n",
       "stcpb                   0\n",
       "dtcpb                   0\n",
       "smeansz                 0\n",
       "dmeansz                 0\n",
       "trans_depth             0\n",
       "res_bdy_len             0\n",
       "Sjit                    0\n",
       "Djit                    0\n",
       "Stime                   0\n",
       "Ltime                   0\n",
       "Sintpkt                 0\n",
       "Dintpkt                 0\n",
       "tcprtt                  0\n",
       "synack                  0\n",
       "ackdat                  0\n",
       "is_sm_ips_ports         0\n",
       "ct_state_ttl            0\n",
       "ct_flw_http_mthd    52518\n",
       "is_ftp_login        55789\n",
       "ct_ftp_cmd              0\n",
       "ct_srv_src              0\n",
       "ct_srv_dst              0\n",
       "ct_dst_ltm              0\n",
       "ct_src_ ltm             0\n",
       "ct_src_dport_ltm        0\n",
       "ct_dst_sport_ltm        0\n",
       "ct_dst_src_ltm          0\n",
       "attack_cat          86270\n",
       "Label                   0\n",
       "dtype: int64"
      ]
     },
     "execution_count": 14,
     "metadata": {},
     "output_type": "execute_result"
    }
   ],
   "source": [
    "# Count null values in columns\n",
    "train.isnull().sum()"
   ]
  },
  {
   "cell_type": "code",
   "execution_count": 15,
   "id": "24bb0aca",
   "metadata": {},
   "outputs": [
    {
     "data": {
      "text/plain": [
       "0    86270\n",
       "1    12703\n",
       "Name: Label, dtype: int64"
      ]
     },
     "execution_count": 15,
     "metadata": {},
     "output_type": "execute_result"
    }
   ],
   "source": [
    "# How many attacks and normal records do we have ?\n",
    "train['Label'].value_counts()"
   ]
  },
  {
   "cell_type": "code",
   "execution_count": 16,
   "id": "93d7c472",
   "metadata": {},
   "outputs": [
    {
     "data": {
      "image/png": "[encoded data removed]",
      "text/plain": [
       "<Figure size 432x288 with 1 Axes>"
      ]
     },
     "metadata": {
      "needs_background": "light"
     },
     "output_type": "display_data"
    }
   ],
   "source": [
    "correlation = train.corr()['Label']\n",
    "\n",
    "plt.bar(correlation.keys(), correlation.tolist())\n",
    "plt.show()"
   ]
  },
  {
   "cell_type": "code",
   "execution_count": 17,
   "id": "5f56ea57",
   "metadata": {},
   "outputs": [
    {
     "data": {
      "text/plain": [
       "['sttl',\n",
       " 'Dload',\n",
       " 'swin',\n",
       " 'dwin',\n",
       " 'stcpb',\n",
       " 'dtcpb',\n",
       " 'dmeansz',\n",
       " 'Stime',\n",
       " 'Ltime',\n",
       " 'ct_state_ttl',\n",
       " 'ct_srv_src',\n",
       " 'ct_srv_dst',\n",
       " 'ct_dst_ltm',\n",
       " 'ct_src_ ltm',\n",
       " 'ct_src_dport_ltm',\n",
       " 'ct_dst_sport_ltm',\n",
       " 'ct_dst_src_ltm']"
      ]
     },
     "execution_count": 17,
     "metadata": {},
     "output_type": "execute_result"
    }
   ],
   "source": [
    "corr_dict = correlation.to_dict()\n",
    "correlation_treshold = 0.2\n",
    "\n",
    "# Return column names where correlation is greater or equal than threshold\n",
    "column_names = [key for key, value in corr_dict.items() if abs(value) >= correlation_treshold]\n",
    "column_names.remove('Label')\n",
    "column_names"
   ]
  },
  {
   "cell_type": "code",
   "execution_count": 18,
   "id": "499b7606",
   "metadata": {},
   "outputs": [],
   "source": [
    "X_train = train[column_names]\n",
    "y_train = train['Label']\n",
    "del train\n",
    "\n",
    "X_test = test[column_names]\n",
    "y_test = test['Label']\n",
    "del test"
   ]
  },
  {
   "cell_type": "code",
   "execution_count": 19,
   "id": "27a8e208",
   "metadata": {},
   "outputs": [
    {
     "data": {
      "text/plain": [
       "Pipeline(memory=None,\n",
       "     steps=[('standardscaler', StandardScaler(copy=True, with_mean=True, with_std=True)), ('svc', SVC(C=1.0, cache_size=200, class_weight=None, coef0=0.0,\n",
       "  decision_function_shape='ovr', degree=3, gamma='auto', kernel='rbf',\n",
       "  max_iter=-1, probability=False, random_state=None, shrinking=True,\n",
       "  tol=0.001, verbose=False))])"
      ]
     },
     "execution_count": 19,
     "metadata": {},
     "output_type": "execute_result"
    }
   ],
   "source": [
    "clf = make_pipeline(StandardScaler(), SVC(gamma='auto'))\n",
    "clf.fit(X_train, y_train)"
   ]
  },
  {
   "cell_type": "code",
   "execution_count": 20,
   "id": "4fb1b35b",
   "metadata": {},
   "outputs": [],
   "source": [
    "y_pred = clf.predict(X_test)"
   ]
  },
  {
   "cell_type": "code",
   "execution_count": 21,
   "id": "b8802e6d",
   "metadata": {},
   "outputs": [
    {
     "name": "stdout",
     "output_type": "stream",
     "text": [
      "SVM F1-score: 0.9552876779247295\n",
      "SVM accuracy: 0.988301460750473\n",
      "SVM average precision: 0.9150528274611811\n"
     ]
    }
   ],
   "source": [
    "print(f\"SVM F1-score: {f1_score(y_test, y_pred)}\")\n",
    "print(f\"SVM accuracy: {accuracy_score(y_test, y_pred)}\")\n",
    "print(f\"SVM average precision: {average_precision_score(y_test, y_pred)}\")"
   ]
  },
  {
   "cell_type": "code",
   "execution_count": 23,
   "id": "ffaa2699",
   "metadata": {},
   "outputs": [
    {
     "name": "stdout",
     "output_type": "stream",
     "text": [
      "TP: 305063\n",
      "TN: 2107454\n",
      "FP: 25040\n",
      "FN: 3517 <- attacks not detected\n"
     ]
    }
   ],
   "source": [
    "tn, fp, fn, tp = confusion_matrix(y_test, y_pred).ravel()\n",
    "print(f\"TP: {tp}\")\n",
    "print(f\"TN: {tn}\")\n",
    "print(f\"FP: {fp}\")\n",
    "print(f\"FN: {fn} <- attacks not detected\")"
   ]
  },
  {
   "cell_type": "markdown",
   "id": "e6c4a994",
   "metadata": {},
   "source": [
    "# Random forest classifier"
   ]
  },
  {
   "cell_type": "code",
   "execution_count": 30,
   "id": "c6fe7922",
   "metadata": {},
   "outputs": [
    {
     "data": {
      "text/plain": [
       "Pipeline(memory=None,\n",
       "     steps=[('standardscaler', StandardScaler(copy=True, with_mean=True, with_std=True)), ('randomforestclassifier', RandomForestClassifier(bootstrap=True, class_weight=None, criterion='gini',\n",
       "            max_depth=None, max_features='auto', max_leaf_nodes=None,\n",
       "            min_impurity_decrease=0.0, min...n_jobs=1,\n",
       "            oob_score=False, random_state=None, verbose=0,\n",
       "            warm_start=False))])"
      ]
     },
     "execution_count": 30,
     "metadata": {},
     "output_type": "execute_result"
    }
   ],
   "source": [
    "from sklearn.ensemble import RandomForestClassifier\n",
    "clf = make_pipeline(StandardScaler(), RandomForestClassifier())\n",
    "# clf = RandomForestClassifier()\n",
    "clf.fit(X_train, y_train)"
   ]
  },
  {
   "cell_type": "code",
   "execution_count": 31,
   "id": "75778165",
   "metadata": {},
   "outputs": [
    {
     "name": "stdout",
     "output_type": "stream",
     "text": [
      "SVM F1-score: 0.9645537079821679\n",
      "SVM accuracy: 0.9910752398329588\n",
      "SVM average precision: 0.9353623881170232\n"
     ]
    }
   ],
   "source": [
    "y_pred = clf.predict(X_test)\n",
    "print(f\"SVM F1-score: {f1_score(y_test, y_pred)}\")\n",
    "print(f\"SVM accuracy: {accuracy_score(y_test, y_pred)}\")\n",
    "print(f\"SVM average precision: {average_precision_score(y_test, y_pred)}\")"
   ]
  },
  {
   "cell_type": "code",
   "execution_count": 32,
   "id": "d234c435",
   "metadata": {},
   "outputs": [
    {
     "name": "stdout",
     "output_type": "stream",
     "text": [
      "TP: 296417\n",
      "TN: 2122871\n",
      "FP: 9623\n",
      "FN: 12163 <- attacks not detected\n"
     ]
    }
   ],
   "source": [
    "tn, fp, fn, tp = confusion_matrix(y_test, y_pred).ravel()\n",
    "print(f\"TP: {tp}\")\n",
    "print(f\"TN: {tn}\")\n",
    "print(f\"FP: {fp}\")\n",
    "print(f\"FN: {fn} <- attacks not detected\")"
   ]
  },
  {
   "cell_type": "markdown",
   "id": "576fb3cb",
   "metadata": {},
   "source": [
    "### Random forest has better f1-score than SVM, although for me SVM is better, because it has less FN (not detected attacks)"
   ]
  }
 ],
 "metadata": {
  "kernelspec": {
   "display_name": "Python 3",
   "language": "python",
   "name": "python3"
  },
  "language_info": {
   "codemirror_mode": {
    "name": "ipython",
    "version": 3
   },
   "file_extension": ".py",
   "mimetype": "text/x-python",
   "name": "python",
   "nbconvert_exporter": "python",
   "pygments_lexer": "ipython3",
   "version": "3.7.10"
  }
 },
 "nbformat": 4,
 "nbformat_minor": 5
}
