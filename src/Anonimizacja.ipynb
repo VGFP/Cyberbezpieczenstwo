{
 "cells": [
  {
   "cell_type": "code",
   "execution_count": null,
   "id": "d1bae40c",
   "metadata": {},
   "outputs": [],
   "source": [
    "import os\n",
    "import pandas as pd\n",
    "import numpy as np\n",
    "import matplotlib.pyplot as plt\n",
    "import seaborn as sns\n",
    "from sklearn.model_selection import train_test_split\n",
    "from sklearn.pipeline import make_pipeline\n",
    "from sklearn.preprocessing import StandardScaler\n",
    "from sklearn.svm import SVC, OneClassSVM\n",
    "from sklearn.neural_network import MLPClassifier\n",
    "from sklearn.neighbors import KNeighborsClassifier\n",
    "from sklearn.ensemble import RandomForestClassifier, GradientBoostingClassifier\n",
    "from sklearn.linear_model import LogisticRegression\n",
    "from sklearn.metrics import f1_score, accuracy_score, precision_score, confusion_matrix, recall_score\n",
    "\n",
    "# How big is train dataset ?\n",
    "train_test_ratio = 0.039\n",
    "np.random.RandomState(seed=42)\n",
    "\n",
    "data_path = os.path.abspath(os.path.join(os.getcwd(), '..',  'dataset'))\n",
    "\n",
    "frames = []\n",
    "\n",
    "frames.append(pd.read_csv(os.path.join(data_path, \"UNSW-NB15_1_anonymized_new.csv\")))\n",
    "# Uncomment to load all csv\n",
    "frames.append(pd.read_csv(os.path.join(data_path, \"UNSW-NB15_2_anonymized_new.csv\")))\n",
    "frames.append(pd.read_csv(os.path.join(data_path, \"UNSW-NB15_3_anonymized_new.csv\")))\n",
    "frames.append(pd.read_csv(os.path.join(data_path, \"UNSW-NB15_4_anonymized_new.csv\")))\n",
    "\n",
    "df = pd.concat(frames, axis=0, ignore_index=True)\n",
    "\n",
    "mask = np.random.rand(len(df)) < train_test_ratio\n",
    "train = df[mask]\n",
    "test = df[~mask]\n",
    "\n",
    "# Clear memory\n",
    "del df\n",
    "\n",
    "train.head()"
   ]
  },
  {
   "cell_type": "code",
   "execution_count": null,
   "id": "a9ef17d3",
   "metadata": {
    "scrolled": false
   },
   "outputs": [],
   "source": [
    "# Info about data types and columns\n",
    "train.info()"
   ]
  },
  {
   "cell_type": "code",
   "execution_count": null,
   "id": "df0c1cd0",
   "metadata": {},
   "outputs": [],
   "source": [
    "# Count null values in columns\n",
    "test.isnull().sum()"
   ]
  },
  {
   "cell_type": "code",
   "execution_count": null,
   "id": "24bb0aca",
   "metadata": {},
   "outputs": [],
   "source": [
    "# How many attacks and normal records do we have ?\n",
    "train['Label'].value_counts()"
   ]
  },
  {
   "cell_type": "code",
   "execution_count": null,
   "id": "93d7c472",
   "metadata": {},
   "outputs": [],
   "source": [
    "correlation = train.corr()['Label']\n",
    "correlation = correlation.drop('Label')\n",
    "\n",
    "plt.style.use('seaborn')\n",
    "plt.rc('xtick', labelsize=15)\n",
    "plt.rc('ytick', labelsize=15)\n",
    "\n",
    "plt.figure(figsize=(16,8))\n",
    "plt.bar(correlation.keys(), correlation.tolist())\n",
    "plt.title('Korelacja z kolumną target', size=20)\n",
    "plt.xticks(rotation=90)\n",
    "plt.axhline(y=0.2, linewidth=2, color='r')\n",
    "plt.axhline(y=-0.2, linewidth=2, color='r')\n",
    "plt.show()"
   ]
  },
  {
   "cell_type": "code",
   "execution_count": null,
   "id": "5f56ea57",
   "metadata": {},
   "outputs": [],
   "source": [
    "corr_dict = correlation.to_dict()\n",
    "correlation_treshold = 0.2\n",
    "\n",
    "# Return column names where correlation is greater or equal than threshold\n",
    "column_names = [key for key, value in corr_dict.items() if abs(value) >= correlation_treshold]\n",
    "column_names"
   ]
  },
  {
   "cell_type": "code",
   "execution_count": null,
   "id": "499b7606",
   "metadata": {},
   "outputs": [],
   "source": [
    "scaler = StandardScaler()\n",
    "\n",
    "X_train = scaler.fit_transform(train[column_names])\n",
    "y_train = train['Label']\n",
    "# del train\n",
    "\n",
    "X_test = scaler.transform(test[column_names])\n",
    "y_test = test['Label']\n",
    "# del test"
   ]
  },
  {
   "cell_type": "code",
   "execution_count": null,
   "id": "29eecd6d",
   "metadata": {},
   "outputs": [],
   "source": [
    "classifiers = {\n",
    "    'logreg': LogisticRegression(),\n",
    "    'forest': RandomForestClassifier(),\n",
    "    'gradboost': GradientBoostingClassifier(),\n",
    "    'svc': SVC(),\n",
    "    'mlp': MLPClassifier()\n",
    "}"
   ]
  },
  {
   "cell_type": "code",
   "execution_count": null,
   "id": "d1c9eabc",
   "metadata": {},
   "outputs": [],
   "source": [
    "results = []\n",
    "conf_matrix = {}\n",
    "\n",
    "for name, clf in classifiers.items():\n",
    "    clf.fit(X_train, y_train)\n",
    "    y_pred = clf.predict(X_test)\n",
    "    f1 = f1_score(y_test, y_pred)\n",
    "    prec = precision_score(y_test, y_pred)\n",
    "    rec = recall_score(y_test, y_pred)\n",
    "    acc = accuracy_score(y_test, y_pred)\n",
    "    \n",
    "    results.append([name, f1, prec, rec, acc])\n",
    "    conf_matrix[name] = confusion_matrix(y_test, y_pred)\n",
    "    \n",
    "df_results = pd.DataFrame(results, columns=['model', 'f1', 'precision', 'recall', 'accuracy'])"
   ]
  },
  {
   "cell_type": "code",
   "execution_count": null,
   "id": "adda3c95",
   "metadata": {},
   "outputs": [],
   "source": [
    "df_results.round(4)"
   ]
  },
  {
   "cell_type": "code",
   "execution_count": null,
   "id": "0d88b429",
   "metadata": {},
   "outputs": [],
   "source": [
    "for key, item in conf_matrix.items():\n",
    "    conf_matrix[key] = item / len(test)"
   ]
  },
  {
   "cell_type": "code",
   "execution_count": null,
   "id": "10bb13de",
   "metadata": {},
   "outputs": [],
   "source": [
    "fig, axes = plt.subplots(1, 5, figsize=(15, 6), sharey=True, sharex=True, constrained_layout=True)\n",
    "axes = axes.flatten()\n",
    "\n",
    "for i, (model, cm) in enumerate(conf_matrix.items()):\n",
    "    ax = axes[i]\n",
    "    sns.heatmap(cm, ax=ax, annot=True, square=True, cbar=False,\n",
    "                fmt=\".2%\", vmin=0, vmax=cm.sum().sum(), annot_kws={'size': 13})\n",
    "    \n",
    "    ax.set_title(model, fontsize=16)\n",
    "    ax.margins(0)\n",
    "    ax.grid(False)\n",
    "    \n",
    "    if i == 0:\n",
    "        ax.set_ylabel('true label')\n",
    "    ax.set_xlabel('predicted label')"
   ]
  },
  {
   "cell_type": "code",
   "execution_count": null,
   "id": "7d525dc3",
   "metadata": {},
   "outputs": [],
   "source": []
  }
 ],
 "metadata": {
  "interpreter": {
   "hash": "bcc8378988483142d0d745233416534782bb7caf8f6433b4451eca61fdf27a5c"
  },
  "kernelspec": {
   "display_name": "Python 3",
   "language": "python",
   "name": "python3"
  },
  "language_info": {
   "codemirror_mode": {
    "name": "ipython",
    "version": 3
   },
   "file_extension": ".py",
   "mimetype": "text/x-python",
   "name": "python",
   "nbconvert_exporter": "python",
   "pygments_lexer": "ipython3",
   "version": "3.8.9"
  }
 },
 "nbformat": 4,
 "nbformat_minor": 5
}
