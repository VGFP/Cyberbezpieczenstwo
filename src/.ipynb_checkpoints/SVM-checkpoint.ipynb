{
 "cells": [
  {
   "cell_type": "code",
   "execution_count": 2,
   "id": "74eb2a9d",
   "metadata": {
    "scrolled": false
   },
   "outputs": [
    {
     "name": "stderr",
     "output_type": "stream",
     "text": [
      "C:\\Users\\Dominik\\miniconda3\\envs\\tensorflow\\lib\\site-packages\\IPython\\core\\interactiveshell.py:3166: DtypeWarning: Columns (1,3,47) have mixed types.Specify dtype option on import or set low_memory=False.\n",
      "  interactivity=interactivity, compiler=compiler, result=result)\n",
      "C:\\Users\\Dominik\\miniconda3\\envs\\tensorflow\\lib\\site-packages\\IPython\\core\\interactiveshell.py:3166: DtypeWarning: Columns (3,39,47) have mixed types.Specify dtype option on import or set low_memory=False.\n",
      "  interactivity=interactivity, compiler=compiler, result=result)\n"
     ]
    },
    {
     "data": {
      "text/html": [
       "<div>\n",
       "<style scoped>\n",
       "    .dataframe tbody tr th:only-of-type {\n",
       "        vertical-align: middle;\n",
       "    }\n",
       "\n",
       "    .dataframe tbody tr th {\n",
       "        vertical-align: top;\n",
       "    }\n",
       "\n",
       "    .dataframe thead th {\n",
       "        text-align: right;\n",
       "    }\n",
       "</style>\n",
       "<table border=\"1\" class=\"dataframe\">\n",
       "  <thead>\n",
       "    <tr style=\"text-align: right;\">\n",
       "      <th></th>\n",
       "      <th>srcip</th>\n",
       "      <th>sport</th>\n",
       "      <th>dstip</th>\n",
       "      <th>dsport</th>\n",
       "      <th>proto</th>\n",
       "      <th>state</th>\n",
       "      <th>dur</th>\n",
       "      <th>sbytes</th>\n",
       "      <th>dbytes</th>\n",
       "      <th>sttl</th>\n",
       "      <th>...</th>\n",
       "      <th>ct_ftp_cmd</th>\n",
       "      <th>ct_srv_src</th>\n",
       "      <th>ct_srv_dst</th>\n",
       "      <th>ct_dst_ltm</th>\n",
       "      <th>ct_src_ ltm</th>\n",
       "      <th>ct_src_dport_ltm</th>\n",
       "      <th>ct_dst_sport_ltm</th>\n",
       "      <th>ct_dst_src_ltm</th>\n",
       "      <th>attack_cat</th>\n",
       "      <th>Label</th>\n",
       "    </tr>\n",
       "  </thead>\n",
       "  <tbody>\n",
       "    <tr>\n",
       "      <th>8</th>\n",
       "      <td>59.166.0.5</td>\n",
       "      <td>40726</td>\n",
       "      <td>149.171.126.6</td>\n",
       "      <td>53</td>\n",
       "      <td>udp</td>\n",
       "      <td>CON</td>\n",
       "      <td>0.001126</td>\n",
       "      <td>146</td>\n",
       "      <td>178</td>\n",
       "      <td>31</td>\n",
       "      <td>...</td>\n",
       "      <td>0</td>\n",
       "      <td>6</td>\n",
       "      <td>7</td>\n",
       "      <td>3</td>\n",
       "      <td>1</td>\n",
       "      <td>1</td>\n",
       "      <td>1</td>\n",
       "      <td>1</td>\n",
       "      <td>NaN</td>\n",
       "      <td>0</td>\n",
       "    </tr>\n",
       "    <tr>\n",
       "      <th>100</th>\n",
       "      <td>59.166.0.2</td>\n",
       "      <td>45898</td>\n",
       "      <td>149.171.126.1</td>\n",
       "      <td>111</td>\n",
       "      <td>udp</td>\n",
       "      <td>CON</td>\n",
       "      <td>0.004906</td>\n",
       "      <td>568</td>\n",
       "      <td>304</td>\n",
       "      <td>31</td>\n",
       "      <td>...</td>\n",
       "      <td>0</td>\n",
       "      <td>3</td>\n",
       "      <td>3</td>\n",
       "      <td>1</td>\n",
       "      <td>2</td>\n",
       "      <td>1</td>\n",
       "      <td>1</td>\n",
       "      <td>1</td>\n",
       "      <td>NaN</td>\n",
       "      <td>0</td>\n",
       "    </tr>\n",
       "    <tr>\n",
       "      <th>120</th>\n",
       "      <td>10.40.85.1</td>\n",
       "      <td>0</td>\n",
       "      <td>224.0.0.5</td>\n",
       "      <td>0</td>\n",
       "      <td>ospf</td>\n",
       "      <td>INT</td>\n",
       "      <td>50.004341</td>\n",
       "      <td>384</td>\n",
       "      <td>0</td>\n",
       "      <td>1</td>\n",
       "      <td>...</td>\n",
       "      <td>0</td>\n",
       "      <td>2</td>\n",
       "      <td>4</td>\n",
       "      <td>4</td>\n",
       "      <td>2</td>\n",
       "      <td>2</td>\n",
       "      <td>4</td>\n",
       "      <td>2</td>\n",
       "      <td>NaN</td>\n",
       "      <td>0</td>\n",
       "    </tr>\n",
       "    <tr>\n",
       "      <th>142</th>\n",
       "      <td>59.166.0.6</td>\n",
       "      <td>5702</td>\n",
       "      <td>149.171.126.4</td>\n",
       "      <td>53</td>\n",
       "      <td>udp</td>\n",
       "      <td>CON</td>\n",
       "      <td>0.001097</td>\n",
       "      <td>132</td>\n",
       "      <td>164</td>\n",
       "      <td>31</td>\n",
       "      <td>...</td>\n",
       "      <td>0</td>\n",
       "      <td>5</td>\n",
       "      <td>6</td>\n",
       "      <td>1</td>\n",
       "      <td>1</td>\n",
       "      <td>1</td>\n",
       "      <td>1</td>\n",
       "      <td>1</td>\n",
       "      <td>NaN</td>\n",
       "      <td>0</td>\n",
       "    </tr>\n",
       "    <tr>\n",
       "      <th>145</th>\n",
       "      <td>175.45.176.2</td>\n",
       "      <td>63163</td>\n",
       "      <td>149.171.126.11</td>\n",
       "      <td>8080</td>\n",
       "      <td>tcp</td>\n",
       "      <td>FIN</td>\n",
       "      <td>0.290395</td>\n",
       "      <td>1314</td>\n",
       "      <td>1172</td>\n",
       "      <td>254</td>\n",
       "      <td>...</td>\n",
       "      <td>0</td>\n",
       "      <td>2</td>\n",
       "      <td>1</td>\n",
       "      <td>1</td>\n",
       "      <td>1</td>\n",
       "      <td>1</td>\n",
       "      <td>1</td>\n",
       "      <td>1</td>\n",
       "      <td>Exploits</td>\n",
       "      <td>1</td>\n",
       "    </tr>\n",
       "  </tbody>\n",
       "</table>\n",
       "<p>5 rows × 49 columns</p>\n",
       "</div>"
      ],
      "text/plain": [
       "            srcip  sport           dstip dsport proto state        dur  \\\n",
       "8      59.166.0.5  40726   149.171.126.6     53   udp   CON   0.001126   \n",
       "100    59.166.0.2  45898   149.171.126.1    111   udp   CON   0.004906   \n",
       "120    10.40.85.1      0       224.0.0.5      0  ospf   INT  50.004341   \n",
       "142    59.166.0.6   5702   149.171.126.4     53   udp   CON   0.001097   \n",
       "145  175.45.176.2  63163  149.171.126.11   8080   tcp   FIN   0.290395   \n",
       "\n",
       "     sbytes  dbytes  sttl  ...  ct_ftp_cmd  ct_srv_src  ct_srv_dst ct_dst_ltm  \\\n",
       "8       146     178    31  ...           0           6           7          3   \n",
       "100     568     304    31  ...           0           3           3          1   \n",
       "120     384       0     1  ...           0           2           4          4   \n",
       "142     132     164    31  ...           0           5           6          1   \n",
       "145    1314    1172   254  ...           0           2           1          1   \n",
       "\n",
       "     ct_src_ ltm  ct_src_dport_ltm  ct_dst_sport_ltm  ct_dst_src_ltm  \\\n",
       "8              1                 1                 1               1   \n",
       "100            2                 1                 1               1   \n",
       "120            2                 2                 4               2   \n",
       "142            1                 1                 1               1   \n",
       "145            1                 1                 1               1   \n",
       "\n",
       "     attack_cat  Label  \n",
       "8           NaN      0  \n",
       "100         NaN      0  \n",
       "120         NaN      0  \n",
       "142         NaN      0  \n",
       "145    Exploits      1  \n",
       "\n",
       "[5 rows x 49 columns]"
      ]
     },
     "execution_count": 2,
     "metadata": {},
     "output_type": "execute_result"
    }
   ],
   "source": [
    "import os\n",
    "import pandas as pd\n",
    "import numpy as np\n",
    "import seaborn as sns\n",
    "import matplotlib.pyplot as plt\n",
    "from sklearn.model_selection import train_test_split\n",
    "from sklearn.pipeline import make_pipeline\n",
    "from sklearn.preprocessing import StandardScaler\n",
    "from sklearn.svm import SVC\n",
    "\n",
    "# How big is train dataset ?\n",
    "train_test_ratio = 0.039\n",
    "np.random.RandomState(seed=42)\n",
    "\n",
    "data_path = os.path.abspath(os.path.join(os.getcwd(), '..',  'dataset'))\n",
    "\n",
    "names = pd.read_csv(os.path.join(data_path, 'NUSW-NB15_features_v2.csv'))['Name'].tolist()\n",
    "\n",
    "frames = []\n",
    "\n",
    "frames.append(pd.read_csv(os.path.join(data_path, \"UNSW-NB15_1.csv\"), names=names))\n",
    "# Uncomment to load all csv\n",
    "frames.append(pd.read_csv(os.path.join(data_path, \"UNSW-NB15_2.csv\"), names=names))\n",
    "frames.append(pd.read_csv(os.path.join(data_path, \"UNSW-NB15_3.csv\"), names=names))\n",
    "frames.append(pd.read_csv(os.path.join(data_path, \"UNSW-NB15_4.csv\"), names=names))\n",
    "\n",
    "df = pd.concat(frames, axis=0, ignore_index=True)\n",
    "\n",
    "mask = np.random.rand(len(df)) < train_test_ratio\n",
    "train = df[mask]\n",
    "test = df[~mask]\n",
    "\n",
    "# Clear memory\n",
    "del df\n",
    "\n",
    "train.head()"
   ]
  },
  {
   "cell_type": "code",
   "execution_count": 5,
   "id": "a9ef17d3",
   "metadata": {
    "scrolled": false
   },
   "outputs": [
    {
     "name": "stdout",
     "output_type": "stream",
     "text": [
      "<class 'pandas.core.frame.DataFrame'>\n",
      "Int64Index: 98826 entries, 8 to 2540041\n",
      "Data columns (total 49 columns):\n",
      " #   Column            Non-Null Count  Dtype  \n",
      "---  ------            --------------  -----  \n",
      " 0   srcip             98826 non-null  object \n",
      " 1   sport             98826 non-null  object \n",
      " 2   dstip             98826 non-null  object \n",
      " 3   dsport            98826 non-null  object \n",
      " 4   proto             98826 non-null  object \n",
      " 5   state             98826 non-null  object \n",
      " 6   dur               98826 non-null  float64\n",
      " 7   sbytes            98826 non-null  int64  \n",
      " 8   dbytes            98826 non-null  int64  \n",
      " 9   sttl              98826 non-null  int64  \n",
      " 10  dttl              98826 non-null  int64  \n",
      " 11  sloss             98826 non-null  int64  \n",
      " 12  dloss             98826 non-null  int64  \n",
      " 13  service           98826 non-null  object \n",
      " 14  Sload             98826 non-null  float64\n",
      " 15  Dload             98826 non-null  float64\n",
      " 16  Spkts             98826 non-null  int64  \n",
      " 17  Dpkts             98826 non-null  int64  \n",
      " 18  swin              98826 non-null  int64  \n",
      " 19  dwin              98826 non-null  int64  \n",
      " 20  stcpb             98826 non-null  int64  \n",
      " 21  dtcpb             98826 non-null  int64  \n",
      " 22  smeansz           98826 non-null  int64  \n",
      " 23  dmeansz           98826 non-null  int64  \n",
      " 24  trans_depth       98826 non-null  int64  \n",
      " 25  res_bdy_len       98826 non-null  int64  \n",
      " 26  Sjit              98826 non-null  float64\n",
      " 27  Djit              98826 non-null  float64\n",
      " 28  Stime             98826 non-null  int64  \n",
      " 29  Ltime             98826 non-null  int64  \n",
      " 30  Sintpkt           98826 non-null  float64\n",
      " 31  Dintpkt           98826 non-null  float64\n",
      " 32  tcprtt            98826 non-null  float64\n",
      " 33  synack            98826 non-null  float64\n",
      " 34  ackdat            98826 non-null  float64\n",
      " 35  is_sm_ips_ports   98826 non-null  int64  \n",
      " 36  ct_state_ttl      98826 non-null  int64  \n",
      " 37  ct_flw_http_mthd  46582 non-null  float64\n",
      " 38  is_ftp_login      43447 non-null  float64\n",
      " 39  ct_ftp_cmd        98826 non-null  object \n",
      " 40  ct_srv_src        98826 non-null  int64  \n",
      " 41  ct_srv_dst        98826 non-null  int64  \n",
      " 42  ct_dst_ltm        98826 non-null  int64  \n",
      " 43  ct_src_ ltm       98826 non-null  int64  \n",
      " 44  ct_src_dport_ltm  98826 non-null  int64  \n",
      " 45  ct_dst_sport_ltm  98826 non-null  int64  \n",
      " 46  ct_dst_src_ltm    98826 non-null  int64  \n",
      " 47  attack_cat        12645 non-null  object \n",
      " 48  Label             98826 non-null  int64  \n",
      "dtypes: float64(12), int64(28), object(9)\n",
      "memory usage: 37.7+ MB\n"
     ]
    }
   ],
   "source": [
    "# Info about data types and columns\n",
    "train.info()"
   ]
  },
  {
   "cell_type": "code",
   "execution_count": 6,
   "id": "df0c1cd0",
   "metadata": {},
   "outputs": [
    {
     "data": {
      "text/plain": [
       "srcip                   0\n",
       "sport                   0\n",
       "dstip                   0\n",
       "dsport                  0\n",
       "proto                   0\n",
       "state                   0\n",
       "dur                     0\n",
       "sbytes                  0\n",
       "dbytes                  0\n",
       "sttl                    0\n",
       "dttl                    0\n",
       "sloss                   0\n",
       "dloss                   0\n",
       "service                 0\n",
       "Sload                   0\n",
       "Dload                   0\n",
       "Spkts                   0\n",
       "Dpkts                   0\n",
       "swin                    0\n",
       "dwin                    0\n",
       "stcpb                   0\n",
       "dtcpb                   0\n",
       "smeansz                 0\n",
       "dmeansz                 0\n",
       "trans_depth             0\n",
       "res_bdy_len             0\n",
       "Sjit                    0\n",
       "Djit                    0\n",
       "Stime                   0\n",
       "Ltime                   0\n",
       "Sintpkt                 0\n",
       "Dintpkt                 0\n",
       "tcprtt                  0\n",
       "synack                  0\n",
       "ackdat                  0\n",
       "is_sm_ips_ports         0\n",
       "ct_state_ttl            0\n",
       "ct_flw_http_mthd    52244\n",
       "is_ftp_login        55379\n",
       "ct_ftp_cmd              0\n",
       "ct_srv_src              0\n",
       "ct_srv_dst              0\n",
       "ct_dst_ltm              0\n",
       "ct_src_ ltm             0\n",
       "ct_src_dport_ltm        0\n",
       "ct_dst_sport_ltm        0\n",
       "ct_dst_src_ltm          0\n",
       "attack_cat          86181\n",
       "Label                   0\n",
       "dtype: int64"
      ]
     },
     "execution_count": 6,
     "metadata": {},
     "output_type": "execute_result"
    }
   ],
   "source": [
    "# Count null values in columns\n",
    "train.isnull().sum()"
   ]
  },
  {
   "cell_type": "code",
   "execution_count": 7,
   "id": "24bb0aca",
   "metadata": {},
   "outputs": [
    {
     "data": {
      "text/plain": [
       "0    86181\n",
       "1    12645\n",
       "Name: Label, dtype: int64"
      ]
     },
     "execution_count": 7,
     "metadata": {},
     "output_type": "execute_result"
    }
   ],
   "source": [
    "# How many attacks and normal records do we have ?\n",
    "train['Label'].value_counts()"
   ]
  },
  {
   "cell_type": "code",
   "execution_count": 8,
   "id": "93d7c472",
   "metadata": {},
   "outputs": [
    {
     "data": {
      "image/png": "[encoded data removed]",
      "text/plain": [
       "<Figure size 432x288 with 1 Axes>"
      ]
     },
     "metadata": {
      "needs_background": "light"
     },
     "output_type": "display_data"
    }
   ],
   "source": [
    "correlation = train.corr()['Label']\n",
    "\n",
    "plt.bar(correlation.keys(), correlation.tolist())\n",
    "plt.show()"
   ]
  },
  {
   "cell_type": "code",
   "execution_count": 9,
   "id": "5f56ea57",
   "metadata": {},
   "outputs": [
    {
     "data": {
      "text/plain": [
       "['sttl',\n",
       " 'Dload',\n",
       " 'swin',\n",
       " 'dwin',\n",
       " 'stcpb',\n",
       " 'dtcpb',\n",
       " 'dmeansz',\n",
       " 'Stime',\n",
       " 'Ltime',\n",
       " 'ct_state_ttl',\n",
       " 'ct_srv_src',\n",
       " 'ct_srv_dst',\n",
       " 'ct_dst_ltm',\n",
       " 'ct_src_ ltm',\n",
       " 'ct_src_dport_ltm',\n",
       " 'ct_dst_sport_ltm',\n",
       " 'ct_dst_src_ltm']"
      ]
     },
     "execution_count": 9,
     "metadata": {},
     "output_type": "execute_result"
    }
   ],
   "source": [
    "corr_dict = correlation.to_dict()\n",
    "correlation_treshold = 0.2\n",
    "\n",
    "# Return column names where correlation is greater or equal than threshold\n",
    "column_names = [key for key, value in corr_dict.items() if abs(value) >= correlation_treshold]\n",
    "column_names.remove('Label')\n",
    "column_names"
   ]
  },
  {
   "cell_type": "code",
   "execution_count": 10,
   "id": "499b7606",
   "metadata": {},
   "outputs": [],
   "source": [
    "X_train = train[column_names]\n",
    "y_train = train['Label']\n",
    "del train\n",
    "\n",
    "X_test = test[column_names]\n",
    "y_test = test['Label']\n",
    "del test"
   ]
  },
  {
   "cell_type": "code",
   "execution_count": 11,
   "id": "27a8e208",
   "metadata": {},
   "outputs": [
    {
     "data": {
      "text/plain": [
       "Pipeline(memory=None,\n",
       "     steps=[('standardscaler', StandardScaler(copy=True, with_mean=True, with_std=True)), ('svc', SVC(C=1.0, cache_size=200, class_weight=None, coef0=0.0,\n",
       "  decision_function_shape='ovr', degree=3, gamma='auto', kernel='rbf',\n",
       "  max_iter=-1, probability=False, random_state=None, shrinking=True,\n",
       "  tol=0.001, verbose=False))])"
      ]
     },
     "execution_count": 11,
     "metadata": {},
     "output_type": "execute_result"
    }
   ],
   "source": [
    "clf = make_pipeline(StandardScaler(), SVC(gamma='auto'))\n",
    "clf.fit(X_train, y_train)"
   ]
  },
  {
   "cell_type": "code",
   "execution_count": 12,
   "id": "4fb1b35b",
   "metadata": {},
   "outputs": [],
   "source": [
    "y_pred = clf.predict(X_test)"
   ]
  },
  {
   "cell_type": "code",
   "execution_count": 13,
   "id": "b8802e6d",
   "metadata": {},
   "outputs": [
    {
     "name": "stdout",
     "output_type": "stream",
     "text": [
      "SVM F1-score: 0.9550745312727551\n",
      "SVM accuracy: 0.988248093884167\n",
      "SVM average precision: 0.9146950513444745\n"
     ]
    }
   ],
   "source": [
    "from sklearn.metrics import f1_score, accuracy_score, average_precision_score\n",
    "print(f\"SVM F1-score: {f1_score(y_test, y_pred)}\")\n",
    "print(f\"SVM accuracy: {accuracy_score(y_test, y_pred)}\")\n",
    "print(f\"SVM average precision: {average_precision_score(y_test, y_pred)}\")"
   ]
  }
 ],
 "metadata": {
  "kernelspec": {
   "display_name": "Python 3",
   "language": "python",
   "name": "python3"
  },
  "language_info": {
   "codemirror_mode": {
    "name": "ipython",
    "version": 3
   },
   "file_extension": ".py",
   "mimetype": "text/x-python",
   "name": "python",
   "nbconvert_exporter": "python",
   "pygments_lexer": "ipython3",
   "version": "3.7.10"
  }
 },
 "nbformat": 4,
 "nbformat_minor": 5
}
